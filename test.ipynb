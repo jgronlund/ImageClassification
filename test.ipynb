{
 "cells": [
  {
   "cell_type": "code",
   "execution_count": 3,
   "id": "b48eeacf",
   "metadata": {},
   "outputs": [],
   "source": [
    "import torch\n",
    "import torch.nn as nn\n",
    "from models.MMR import MMR\n",
    "from models.MMR import TDB\n",
    "from models.MMR import MMR_losses\n",
    "# from models.Image2Recipe import Image2Recipe\n",
    "\n",
    "# Define dummy data parameters\n",
    "batch_size = 8  # Adjust as needed\n",
    "seq_len = 10  # Length of the token sequence, adjust as needed\n",
    "hidden_dim = 1024  # Size of the feature vectors\n",
    "num_heads = 4  # Number of attention heads\n",
    "ITEM_lyrs = 2  # Number of ITEM layers\n",
    "MTD_lyrs = 2  # Number of MTD layers\n",
    "projection_dim = 512  # Projection dimension\n",
    "\n"
   ]
  },
  {
   "cell_type": "code",
   "execution_count": 4,
   "id": "228a31a3",
   "metadata": {},
   "outputs": [
    {
     "ename": "NameError",
     "evalue": "name 'Image_Encoder' is not defined",
     "output_type": "error",
     "traceback": [
      "\u001b[0;31m---------------------------------------------------------------------------\u001b[0m",
      "\u001b[0;31mNameError\u001b[0m                                 Traceback (most recent call last)",
      "Cell \u001b[0;32mIn[4], line 2\u001b[0m\n\u001b[1;32m      1\u001b[0m \u001b[38;5;66;03m# Create dummy data (projected recipe and image embeddings)\u001b[39;00m\n\u001b[0;32m----> 2\u001b[0m \u001b[38;5;28mself\u001b[39m\u001b[38;5;241m.\u001b[39mimage_encoder \u001b[38;5;241m=\u001b[39m Image_Encoder(\u001b[38;5;28mself\u001b[39m\u001b[38;5;241m.\u001b[39mdevice, \u001b[38;5;28mself\u001b[39m\u001b[38;5;241m.\u001b[39mclip_model, num_classes)\u001b[38;5;241m.\u001b[39mto(\u001b[38;5;28mself\u001b[39m\u001b[38;5;241m.\u001b[39mdevice)\n\u001b[1;32m      3\u001b[0m \u001b[38;5;28mself\u001b[39m\u001b[38;5;241m.\u001b[39mrecipe_encoder \u001b[38;5;241m=\u001b[39m RecipeEncoder(\u001b[38;5;28mself\u001b[39m\u001b[38;5;241m.\u001b[39mdevice, \u001b[38;5;28mself\u001b[39m\u001b[38;5;241m.\u001b[39mvocab_size, \u001b[38;5;28mself\u001b[39m\u001b[38;5;241m.\u001b[39mmax_len)\u001b[38;5;241m.\u001b[39mto(\u001b[38;5;28mself\u001b[39m\u001b[38;5;241m.\u001b[39mdevice)\n\u001b[1;32m      4\u001b[0m \u001b[38;5;28mself\u001b[39m\u001b[38;5;241m.\u001b[39mmmr \u001b[38;5;241m=\u001b[39m MMR(input_size\u001b[38;5;241m=\u001b[39m\u001b[38;5;28mself\u001b[39m\u001b[38;5;241m.\u001b[39mimage_encoder\u001b[38;5;241m.\u001b[39mclip_model\u001b[38;5;241m.\u001b[39mconfig\u001b[38;5;241m.\u001b[39mprojection_dim, device\u001b[38;5;241m=\u001b[39m\u001b[38;5;28mself\u001b[39m\u001b[38;5;241m.\u001b[39mdevice)\n",
      "\u001b[0;31mNameError\u001b[0m: name 'Image_Encoder' is not defined"
     ]
    }
   ],
   "source": [
    "# Create dummy data (projected recipe and image embeddings)\n",
    "self.image_encoder = Image_Encoder(self.device, self.clip_model, num_classes).to(self.device)\n",
    "self.recipe_encoder = RecipeEncoder(self.device, self.vocab_size, self.max_len).to(self.device)\n",
    "self.mmr = MMR(input_size=self.image_encoder.clip_model.config.projection_dim, device=self.device)\n",
    "# num_heads=num_heads, ITEM_lyrs=ITEM_lyrs, MTD_lyrs=MTD_lyrs, projection_dim=projection_dim\n",
    "self.model = Image2Recipe(self.image_encoder, self.recipe_encoder, self.mmr).to(self.device)\n"
   ]
  },
  {
   "cell_type": "code",
   "execution_count": 5,
   "id": "1fcfdfc5",
   "metadata": {},
   "outputs": [],
   "source": [
    "        \n",
    "recipe_tokens = torch.randn(batch_size, seq_len, hidden_dim)  # Shape: [batch_size, seq_len, hidden_dim]\n",
    "image_tokens = torch.randn(batch_size, seq_len, hidden_dim)  # Shape: [batch_size, seq_len, hidden_dim]\n",
    "# Create labels for testing\n",
    "labels = torch.randint(0, 2, (batch_size,)).float()  # Random binary labels for instance loss calculation\n"
   ]
  },
  {
   "cell_type": "code",
   "execution_count": 6,
   "id": "8ca931da",
   "metadata": {},
   "outputs": [],
   "source": [
    "# Instantiate the MMR model\n",
    "mmr_model = MMR(hidden_dim=hidden_dim, num_heads=num_heads, ITEM_lyrs=ITEM_lyrs, MTD_lyrs=MTD_lyrs, projection_dim=projection_dim)\n"
   ]
  },
  {
   "cell_type": "code",
   "execution_count": 7,
   "id": "a36f73c2",
   "metadata": {},
   "outputs": [
    {
     "name": "stdout",
     "output_type": "stream",
     "text": [
      "torch.Size([8, 10, 1024])\n",
      "torch.Size([8, 10, 1024])\n",
      "torch.Size([8])\n"
     ]
    }
   ],
   "source": [
    "print(recipe_tokens.shape)\n",
    "print(image_tokens.shape)\n",
    "print(labels.shape)"
   ]
  },
  {
   "cell_type": "code",
   "execution_count": 8,
   "id": "29a6922d",
   "metadata": {},
   "outputs": [
    {
     "name": "stdout",
     "output_type": "stream",
     "text": [
      "self_attn\n",
      "Query shape: torch.Size([8, 10, 1024]), Key shape: torch.Size([8, 10, 1024]), Value shape: torch.Size([8, 10, 1024])\n",
      "cross_attn\n",
      "Query shape: torch.Size([8, 10, 1024]), Key shape: torch.Size([8, 10, 1024]), Value shape: torch.Size([8, 10, 1024])\n",
      "self_attn\n",
      "Query shape: torch.Size([8, 10, 1024]), Key shape: torch.Size([8, 10, 1024]), Value shape: torch.Size([8, 10, 1024])\n",
      "cross_attn\n",
      "Query shape: torch.Size([8, 10, 1024]), Key shape: torch.Size([8, 10, 1024]), Value shape: torch.Size([8, 10, 1024])\n",
      "self_attn\n",
      "Query shape: torch.Size([8, 10, 1024]), Key shape: torch.Size([8, 10, 1024]), Value shape: torch.Size([8, 10, 1024])\n",
      "cross_attn\n",
      "Query shape: torch.Size([8, 10, 1024]), Key shape: torch.Size([8, 10, 1024]), Value shape: torch.Size([8, 10, 1024])\n",
      "self_attn\n",
      "Query shape: torch.Size([8, 10, 1024]), Key shape: torch.Size([8, 10, 1024]), Value shape: torch.Size([8, 10, 1024])\n",
      "cross_attn\n",
      "Query shape: torch.Size([8, 10, 1024]), Key shape: torch.Size([8, 10, 1024]), Value shape: torch.Size([8, 10, 1024])\n",
      "self_attn\n",
      "Query shape: torch.Size([8, 10, 1024]), Key shape: torch.Size([8, 10, 1024]), Value shape: torch.Size([8, 10, 1024])\n",
      "cross_attn\n",
      "Query shape: torch.Size([8, 10, 1024]), Key shape: torch.Size([8, 10, 1024]), Value shape: torch.Size([8, 10, 1024])\n",
      "self_attn\n",
      "Query shape: torch.Size([8, 10, 1024]), Key shape: torch.Size([8, 10, 1024]), Value shape: torch.Size([8, 10, 1024])\n",
      "cross_attn\n",
      "Query shape: torch.Size([8, 10, 1024]), Key shape: torch.Size([8, 10, 1024]), Value shape: torch.Size([8, 10, 1024])\n",
      "self_attn\n",
      "Query shape: torch.Size([8, 10, 1024]), Key shape: torch.Size([8, 10, 1024]), Value shape: torch.Size([8, 10, 1024])\n",
      "cross_attn\n",
      "Query shape: torch.Size([8, 10, 1024]), Key shape: torch.Size([8, 10, 1024]), Value shape: torch.Size([8, 10, 1024])\n",
      "self_attn\n",
      "Query shape: torch.Size([8, 10, 1024]), Key shape: torch.Size([8, 10, 1024]), Value shape: torch.Size([8, 10, 1024])\n",
      "cross_attn\n",
      "Query shape: torch.Size([8, 10, 1024]), Key shape: torch.Size([8, 10, 1024]), Value shape: torch.Size([8, 10, 1024])\n",
      "torch.Size([8, 10, 1024])\n",
      "post projection\n",
      "recipe: torch.Size([8, 10, 512])\n",
      "image: torch.Size([8, 10, 512])\n"
     ]
    }
   ],
   "source": [
    "# Forward pass through the model\n",
    "logits = mmr_model(recipe_tokens, image_tokens)\n"
   ]
  },
  {
   "cell_type": "code",
   "execution_count": 9,
   "id": "c9c958e1",
   "metadata": {},
   "outputs": [
    {
     "name": "stdout",
     "output_type": "stream",
     "text": [
      "torch.Size([8])\n"
     ]
    }
   ],
   "source": [
    "print(logits.shape)"
   ]
  },
  {
   "cell_type": "code",
   "execution_count": 10,
   "id": "b71ff610",
   "metadata": {},
   "outputs": [
    {
     "name": "stdout",
     "output_type": "stream",
     "text": [
      "tensor([1., 0., 0., 1., 0., 0., 0., 1.])\n"
     ]
    }
   ],
   "source": [
    "print(labels)"
   ]
  },
  {
   "cell_type": "code",
   "execution_count": 15,
   "id": "def4e157",
   "metadata": {},
   "outputs": [
    {
     "name": "stdout",
     "output_type": "stream",
     "text": [
      "txt dist: torch.Size([8, 8])\n",
      "posi mask: torch.Size([8, 8])\n"
     ]
    },
    {
     "ename": "NameError",
     "evalue": "name 'instance_semantic_loss' is not defined",
     "output_type": "error",
     "traceback": [
      "\u001b[0;31m---------------------------------------------------------------------------\u001b[0m",
      "\u001b[0;31mNameError\u001b[0m                                 Traceback (most recent call last)",
      "Cell \u001b[0;32mIn[15], line 6\u001b[0m\n\u001b[1;32m      3\u001b[0m instance_loss \u001b[38;5;241m=\u001b[39m loss\u001b[38;5;241m.\u001b[39minstance_semantic_loss(image_tokens, recipe_tokens, labels, margin\u001b[38;5;241m=\u001b[39m\u001b[38;5;241m1\u001b[39m, mode\u001b[38;5;241m=\u001b[39m\u001b[38;5;124m'\u001b[39m\u001b[38;5;124minstance\u001b[39m\u001b[38;5;124m'\u001b[39m)\n\u001b[1;32m      4\u001b[0m itm_loss \u001b[38;5;241m=\u001b[39m loss\u001b[38;5;241m.\u001b[39mitm_loss(logits, labels)\n\u001b[0;32m----> 6\u001b[0m loss \u001b[38;5;241m=\u001b[39m loss\u001b[38;5;241m.\u001b[39mtotal_loss(labels, image_tokens, recipe_tokens, logits)\n\u001b[1;32m      8\u001b[0m \u001b[38;5;66;03m# Print the outputs for verification\u001b[39;00m\n\u001b[1;32m      9\u001b[0m \u001b[38;5;28mprint\u001b[39m(\u001b[38;5;124m\"\u001b[39m\u001b[38;5;124mLogits:\u001b[39m\u001b[38;5;124m\"\u001b[39m, logits)\n",
      "File \u001b[0;32m~/OMSCS/DL_7643/indv_proj/models/MMR.py:116\u001b[0m, in \u001b[0;36mMMR_losses.total_loss\u001b[0;34m(self, labels, img_embeddings, txt_embeddings, mmr_logits, margin)\u001b[0m\n\u001b[1;32m    115\u001b[0m \u001b[38;5;28;01mdef\u001b[39;00m \u001b[38;5;21mtotal_loss\u001b[39m(\u001b[38;5;28mself\u001b[39m, labels, img_embeddings, txt_embeddings, mmr_logits, margin\u001b[38;5;241m=\u001b[39m\u001b[38;5;241m1.0\u001b[39m):\n\u001b[0;32m--> 116\u001b[0m     sem_loss \u001b[38;5;241m=\u001b[39m instance_semantic_loss(img_embeddings, txt_embeddings, labels, margin, mode\u001b[38;5;241m=\u001b[39m\u001b[38;5;124m'\u001b[39m\u001b[38;5;124msemantic\u001b[39m\u001b[38;5;124m'\u001b[39m)\n\u001b[1;32m    117\u001b[0m     inst_loss \u001b[38;5;241m=\u001b[39m instance_semantic_loss(img_embeddings, txt_embeddings, labels, margin, mode\u001b[38;5;241m=\u001b[39m\u001b[38;5;124m'\u001b[39m\u001b[38;5;124minstance\u001b[39m\u001b[38;5;124m'\u001b[39m)\n\u001b[1;32m    118\u001b[0m     itm_loss \u001b[38;5;241m=\u001b[39m itm_loss(mmr_logits, labels)\n",
      "\u001b[0;31mNameError\u001b[0m: name 'instance_semantic_loss' is not defined"
     ]
    }
   ],
   "source": [
    "loss = MMR_losses(margin=1.0, instance_weight=1.0, sem_weight=1.0, itm_weight=1.0)\n",
    "semantic_loss = loss.instance_semantic_loss(image_tokens, recipe_tokens, labels, margin=1, mode='semantic')\n",
    "instance_loss = loss.instance_semantic_loss(image_tokens, recipe_tokens, labels, margin=1, mode='instance')\n",
    "itm_loss = loss.itm_loss(logits, labels)\n",
    "\n",
    "loss = loss.total_loss(labels, image_tokens, recipe_tokens, logits)\n",
    "\n",
    "# Print the outputs for verification\n",
    "print(\"Logits:\", logits)\n",
    "print(\"Instance Loss:\", instance_loss.item())\n",
    "print(\"Semantic Loss:\", semantic_loss.item())"
   ]
  },
  {
   "cell_type": "code",
   "execution_count": null,
   "id": "30ae0f3a",
   "metadata": {},
   "outputs": [],
   "source": []
  },
  {
   "cell_type": "code",
   "execution_count": null,
   "id": "06a05075",
   "metadata": {},
   "outputs": [],
   "source": []
  }
 ],
 "metadata": {
  "kernelspec": {
   "display_name": "Python 3 (ipykernel)",
   "language": "python",
   "name": "python3"
  },
  "language_info": {
   "codemirror_mode": {
    "name": "ipython",
    "version": 3
   },
   "file_extension": ".py",
   "mimetype": "text/x-python",
   "name": "python",
   "nbconvert_exporter": "python",
   "pygments_lexer": "ipython3",
   "version": "3.11.4"
  }
 },
 "nbformat": 4,
 "nbformat_minor": 5
}
