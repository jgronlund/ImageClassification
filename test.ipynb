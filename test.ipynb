{
 "cells": [
  {
   "cell_type": "code",
   "execution_count": 1,
   "id": "b48eeacf",
   "metadata": {},
   "outputs": [],
   "source": [
    "import torch\n",
    "import torch.nn as nn\n",
    "from models.MMR import MMR\n",
    "from models.MMR import TDB\n",
    "from models.MMR import MMR_losses\n",
    "from models.image_2_recipe import Image2Recipe\n",
    "from models.image_encoder import Image_Encoder\n",
    "from models.recipe_encoder import RecipeEncoder\n",
    "# from models.Image2Recipe import Image2Recipe\n",
    "\n",
    "# Define dummy data parameters\n",
    "batch_size = 8  # Adjust as needed\n",
    "seq_len = 10  # Length of the token sequence, adjust as needed\n",
    "hidden_dim = 1024  # Size of the feature vectors\n",
    "num_heads = 4  # Number of attention heads\n",
    "ITEM_lyrs = 2  # Number of ITEM layers\n",
    "MTD_lyrs = 2  # Number of MTD layers\n",
    "projection_dim = 512  # Projection dimension\n",
    "\n"
   ]
  },
  {
   "cell_type": "code",
   "execution_count": 11,
   "id": "228a31a3",
   "metadata": {},
   "outputs": [
    {
     "ename": "NameError",
     "evalue": "name 'self' is not defined",
     "output_type": "error",
     "traceback": [
      "\u001b[0;31m---------------------------------------------------------------------------\u001b[0m",
      "\u001b[0;31mNameError\u001b[0m                                 Traceback (most recent call last)",
      "Cell \u001b[0;32mIn[11], line 2\u001b[0m\n\u001b[1;32m      1\u001b[0m \u001b[38;5;66;03m# Create dummy data (projected recipe and image embeddings)\u001b[39;00m\n\u001b[0;32m----> 2\u001b[0m image_encoder \u001b[38;5;241m=\u001b[39m Image_Encoder(\u001b[38;5;28mself\u001b[39m\u001b[38;5;241m.\u001b[39mdevice, \u001b[38;5;28mself\u001b[39m\u001b[38;5;241m.\u001b[39mclip_model, num_classes)\u001b[38;5;241m.\u001b[39mto(\u001b[38;5;28mself\u001b[39m\u001b[38;5;241m.\u001b[39mdevice)\n\u001b[1;32m      3\u001b[0m recipe_encoder \u001b[38;5;241m=\u001b[39m RecipeEncoder(\u001b[38;5;28mself\u001b[39m\u001b[38;5;241m.\u001b[39mdevice, \u001b[38;5;28mself\u001b[39m\u001b[38;5;241m.\u001b[39mvocab_size, \u001b[38;5;28mself\u001b[39m\u001b[38;5;241m.\u001b[39mmax_len)\u001b[38;5;241m.\u001b[39mto(\u001b[38;5;28mself\u001b[39m\u001b[38;5;241m.\u001b[39mdevice)\n\u001b[1;32m      4\u001b[0m mmr \u001b[38;5;241m=\u001b[39m MMR(input_size\u001b[38;5;241m=\u001b[39m\u001b[38;5;28mself\u001b[39m\u001b[38;5;241m.\u001b[39mimage_encoder\u001b[38;5;241m.\u001b[39mclip_model\u001b[38;5;241m.\u001b[39mconfig\u001b[38;5;241m.\u001b[39mprojection_dim, device\u001b[38;5;241m=\u001b[39m\u001b[38;5;28mself\u001b[39m\u001b[38;5;241m.\u001b[39mdevice)\n",
      "\u001b[0;31mNameError\u001b[0m: name 'self' is not defined"
     ]
    }
   ],
   "source": [
    "# Create dummy data (projected recipe and image embeddings)\n",
    "image_encoder = Image_Encoder(self.device, self.clip_model, num_classes).to(self.device)\n",
    "recipe_encoder = RecipeEncoder(self.device, self.vocab_size, self.max_len).to(self.device)\n",
    "mmr = MMR(input_size=self.image_encoder.clip_model.config.projection_dim, device=self.device)\n",
    "# num_heads=num_heads, ITEM_lyrs=ITEM_lyrs, MTD_lyrs=MTD_lyrs, projection_dim=projection_dim\n",
    "model = Image2Recipe(self.image_encoder, self.recipe_encoder, self.mmr).to(self.device)\n"
   ]
  },
  {
   "cell_type": "code",
   "execution_count": 2,
   "id": "0a0d02dd",
   "metadata": {},
   "outputs": [],
   "source": [
    "        \n",
    "recipe_tokens = torch.randn(batch_size, seq_len, hidden_dim)  # Shape: [batch_size, seq_len, hidden_dim]\n",
    "image_tokens = torch.randn(batch_size, seq_len, hidden_dim)  # Shape: [batch_size, seq_len, hidden_dim]\n",
    "# Create labels for testing\n",
    "labels = torch.randint(0, 2, (batch_size,)).float()  # Random binary labels for instance loss calculation\n"
   ]
  },
  {
   "cell_type": "code",
   "execution_count": 3,
   "id": "8ca931da",
   "metadata": {},
   "outputs": [],
   "source": [
    "# Instantiate the MMR model\n",
    "mmr_model = MMR(hidden_dim=hidden_dim, num_heads=num_heads, ITEM_lyrs=ITEM_lyrs, MTD_lyrs=MTD_lyrs, projection_dim=projection_dim)\n"
   ]
  },
  {
   "cell_type": "code",
   "execution_count": null,
   "id": "b0128d00",
   "metadata": {},
   "outputs": [],
   "source": [
    "print(recipe_tokens.shape)\n",
    "print(image_tokens.shape)\n",
    "print(labels.shape)"
   ]
  },
  {
   "cell_type": "code",
   "execution_count": null,
   "id": "29a6922d",
   "metadata": {},
   "outputs": [],
   "source": [
    "# Forward pass through the model\n",
    "logits = mmr_model(recipe_tokens, image_tokens)\n"
   ]
  },
  {
   "cell_type": "code",
   "execution_count": 16,
   "id": "b21e81c7",
   "metadata": {},
   "outputs": [
    {
     "name": "stdout",
     "output_type": "stream",
     "text": [
      "torch.Size([8])\n"
     ]
    }
   ],
   "source": [
    "print(logits.shape)"
   ]
  },
  {
   "cell_type": "code",
   "execution_count": 17,
   "id": "7f803fa7",
   "metadata": {},
   "outputs": [
    {
     "name": "stdout",
     "output_type": "stream",
     "text": [
      "tensor([0., 0., 1., 1., 0., 1., 1., 0.])\n"
     ]
    }
   ],
   "source": [
    "print(labels)"
   ]
  },
  {
   "cell_type": "code",
   "execution_count": 19,
   "id": "def4e157",
   "metadata": {},
   "outputs": [
    {
     "ename": "TypeError",
     "evalue": "MMR_losses.instance_semantic_loss() got multiple values for argument 'mode'",
     "output_type": "error",
     "traceback": [
      "\u001b[0;31m---------------------------------------------------------------------------\u001b[0m",
      "\u001b[0;31mTypeError\u001b[0m                                 Traceback (most recent call last)",
      "Cell \u001b[0;32mIn[19], line 6\u001b[0m\n\u001b[1;32m      3\u001b[0m instance_loss \u001b[38;5;241m=\u001b[39m loss\u001b[38;5;241m.\u001b[39minstance_semantic_loss(image_tokens, recipe_tokens, labels,  mode\u001b[38;5;241m=\u001b[39m\u001b[38;5;124m'\u001b[39m\u001b[38;5;124minstance\u001b[39m\u001b[38;5;124m'\u001b[39m)\n\u001b[1;32m      4\u001b[0m itm_loss \u001b[38;5;241m=\u001b[39m loss\u001b[38;5;241m.\u001b[39mitm_loss(logits, labels)\n\u001b[0;32m----> 6\u001b[0m loss \u001b[38;5;241m=\u001b[39m loss\u001b[38;5;241m.\u001b[39mtotal_loss(labels, image_tokens, recipe_tokens, logits)\n\u001b[1;32m      8\u001b[0m \u001b[38;5;66;03m# Print the outputs for verification\u001b[39;00m\n\u001b[1;32m      9\u001b[0m \u001b[38;5;28mprint\u001b[39m(\u001b[38;5;124m\"\u001b[39m\u001b[38;5;124mLogits:\u001b[39m\u001b[38;5;124m\"\u001b[39m, logits)\n",
      "File \u001b[0;32m~/OMSCS/DL_7643/indv_proj/models/MMR.py:117\u001b[0m, in \u001b[0;36mMMR_losses.total_loss\u001b[0;34m(self, labels, img_embeddings, txt_embeddings, mmr_logits, tf_labels)\u001b[0m\n\u001b[1;32m    115\u001b[0m \u001b[38;5;28;01mif\u001b[39;00m tf_labels \u001b[38;5;241m==\u001b[39m \u001b[38;5;124m'\u001b[39m\u001b[38;5;124mbase\u001b[39m\u001b[38;5;124m'\u001b[39m:\n\u001b[1;32m    116\u001b[0m    tf_labels \u001b[38;5;241m=\u001b[39m torch\u001b[38;5;241m.\u001b[39mones(img_embeddings\u001b[38;5;241m.\u001b[39msize()[\u001b[38;5;241m0\u001b[39m])\n\u001b[0;32m--> 117\u001b[0m sem_loss \u001b[38;5;241m=\u001b[39m \u001b[38;5;28mself\u001b[39m\u001b[38;5;241m.\u001b[39minstance_semantic_loss(img_embeddings, txt_embeddings, labels, \u001b[38;5;28mself\u001b[39m\u001b[38;5;241m.\u001b[39mmargin, mode\u001b[38;5;241m=\u001b[39m\u001b[38;5;124m'\u001b[39m\u001b[38;5;124msemantic\u001b[39m\u001b[38;5;124m'\u001b[39m)\n\u001b[1;32m    118\u001b[0m inst_loss \u001b[38;5;241m=\u001b[39m \u001b[38;5;28mself\u001b[39m\u001b[38;5;241m.\u001b[39minstance_semantic_loss(img_embeddings, txt_embeddings, labels, \u001b[38;5;28mself\u001b[39m\u001b[38;5;241m.\u001b[39mmargin, mode\u001b[38;5;241m=\u001b[39m\u001b[38;5;124m'\u001b[39m\u001b[38;5;124minstance\u001b[39m\u001b[38;5;124m'\u001b[39m)\n\u001b[1;32m    119\u001b[0m itm_loss \u001b[38;5;241m=\u001b[39m \u001b[38;5;28mself\u001b[39m\u001b[38;5;241m.\u001b[39mitm_loss(mmr_logits, tf_labels)\n",
      "\u001b[0;31mTypeError\u001b[0m: MMR_losses.instance_semantic_loss() got multiple values for argument 'mode'"
     ]
    }
   ],
   "source": [
    "loss = MMR_losses(margin=1.0, instance_weight=1.0, sem_weight=1.0, itm_weight=1.0)\n",
    "semantic_loss = loss.instance_semantic_loss(image_tokens, recipe_tokens, labels, mode='semantic')\n",
    "instance_loss = loss.instance_semantic_loss(image_tokens, recipe_tokens, labels,  mode='instance')\n",
    "itm_loss = loss.itm_loss(logits, labels)\n",
    "\n",
    "loss = loss.total_loss(labels, image_tokens, recipe_tokens, logits)\n",
    "\n",
    "# Print the outputs for verification\n",
    "print(\"Logits:\", logits)\n",
    "print(\"Instance Loss:\", instance_loss.item())\n",
    "print(\"Semantic Loss:\", semantic_loss.item())"
   ]
  },
  {
   "cell_type": "code",
   "execution_count": 9,
   "id": "8b1af882",
   "metadata": {},
   "outputs": [
    {
     "name": "stdout",
     "output_type": "stream",
     "text": [
      "tensor(0.6986, grad_fn=<BinaryCrossEntropyBackward0>)\n"
     ]
    }
   ],
   "source": [
    "print(itm_loss)"
   ]
  },
  {
   "cell_type": "code",
   "execution_count": 10,
   "id": "03668f55",
   "metadata": {},
   "outputs": [
    {
     "name": "stdout",
     "output_type": "stream",
     "text": [
      "tensor(7.2231, grad_fn=<AddBackward0>)\n"
     ]
    }
   ],
   "source": [
    "print(loss)"
   ]
  },
  {
   "cell_type": "code",
   "execution_count": 9,
   "id": "785e119c",
   "metadata": {},
   "outputs": [
    {
     "name": "stdout",
     "output_type": "stream",
     "text": [
      "4.46.3\n"
     ]
    },
    {
     "ename": "RuntimeError",
     "evalue": "Failed to import transformers.models.clip.modeling_clip because of the following error (look up to see its traceback):\ndlopen(/Users/emilythomas/anaconda3/lib/python3.11/site-packages/tensorflow/python/platform/_pywrap_cpu_feature_guard.so, 0x0002): Library not loaded: @rpath/libtensorflow_cc.2.dylib\n  Referenced from: <FFF31651-3926-3E79-A442-143B7156FB13> /Users/emilythomas/anaconda3/lib/python3.11/site-packages/tensorflow/python/_pywrap_tensorflow_internal.so\n  Reason: tried: '/Users/emilythomas/anaconda3/lib/python3.11/site-packages/tensorflow/python/../../_solib_darwin_x86_64/libtensorflow_cc.2.dylib' (no such file), '/Users/emilythomas/anaconda3/lib/python3.11/site-packages/tensorflow/python/_pywrap_tensorflow_internal.so.runfiles/org_tensorflow/_solib_darwin_x86_64/libtensorflow_cc.2.dylib' (no such file), '/Users/emilythomas/anaconda3/lib/python3.11/site-packages/tensorflow/python/../../_solib_darwin_x86_64/_U_S_Stensorflow_Spython_C_Upywrap_Utensorflow_Uinternal.so_Ucclib___Utensorflow/libtensorflow_cc.2.dylib' (no such file), '/Users/emilythomas/anaconda3/lib/python3.11/site-packages/tensorflow/python/_pywrap_tensorflow_internal.so.runfiles/org_tensorflow/_solib_darwin_x86_64/_U_S_Stensorflow_Spython_C_Upywrap_Utensorflow_Uinternal.so_Ucclib___Utensorflow/libtensorflow_cc.2.dylib' (no such file), '/Users/emilythomas/anaconda3/lib/python3.11/site-packages/tensorflow/python/libtensorflow_cc.2.dylib' (no such file), '/Users/emilythomas/anaconda3/lib/python3.11/site-packages/tensorflow/python/../libtensorflow_cc.2.dylib' (no such file), '/Users/emilythomas/anaconda3/lib/python3.11/site-packages/tensorflow/python/platform/../../../_solib_darwin_x86_64/_U_S_Stensorflow_Clibtensorflow_Uframework_Uimport_Ulib___Utensorflow/libtensorflow_cc.2.dylib' (no such file), '/Users/emilythomas/anaconda3/lib/python3.11/site-packages/tensorflow/python/platform/_pywrap_cpu_feature_guard.so.runfiles/org_tensorflow/_solib_darwin_x86_64/_U_S_Stensorflow_Clibtensorflow_Uframework_Uimport_Ulib___Utensorflow/libtensorflow_cc.2.dylib' (no such file), '/Users/emilythomas/anaconda3/lib/python3.11/site-packages/tensorflow/python/platform/../../../_solib_darwin_x86_64/_U_S_Stensorflow_Spython_C_Upywrap_Utensorflow_Uinternal_Umacos___Utensorflow_Spython/libtensorflow_cc.2.dylib' (no such file), '/Users/emilythomas/anaconda3/lib/python3.11/site-packages/tensorflow/python/platform/_pywrap_cpu_feature_guard.so.runfiles/org_tensorflow/_solib_darwin_x86_64/_U_S_Stensorflow_Spython_C_Upywrap_Utensorflow_Uinternal_Umacos___Utensorflow_Spython/libtensorflow_cc.2.dylib' (no such file), '/Users/emilythomas/anaconda3/lib/python3.11/site-packages/tensorflow/python/platform/libtensorflow_cc.2.dylib' (no such file), '/Users/emilythomas/anaconda3/lib/python3.11/site-packages/tensorflow/python/platform/../libtensorflow_cc.2.dylib' (no such file), '/Users/emilythomas/anaconda3/lib/python3.11/site-packages/tensorflow/python/platform/../../libtensorflow_cc.2.dylib' (no such file), '/Users/emilythomas/anaconda3/lib/python3.11/site-packages/tensorflow/python/platform/../../../_solib_darwin_x86_64/_U_S_Stensorflow_Clibtensorflow_Uframework_Uimport_Ulib___Utensorflow/libtensorflow_cc.2.dylib' (no such file), '/Users/emilythomas/anaconda3/lib/python3.11/site-packages/tensorflow/python/platform/_pywrap_cpu_feature_guard.so.runfiles/org_tensorflow/_solib_darwin_x86_64/_U_S_Stensorflow_Clibtensorflow_Uframework_Uimport_Ulib___Utensorflow/libtensorflow_cc.2.dylib' (no such file), '/Users/emilythomas/anaconda3/lib/python3.11/site-packages/tensorflow/python/platform/../../../_solib_darwin_x86_64/_U_S_Stensorflow_Spython_C_Upywrap_Utensorflow_Uinternal_Umacos___Utensorflow_Spython/libtensorflow_cc.2.dylib' (no such file), '/Users/emilythomas/anaconda3/lib/python3.11/site-packages/tensorflow/python/platform/_pywrap_cpu_feature_guard.so.runfiles/org_tensorflow/_solib_darwin_x86_64/_U_S_Stensorflow_Spython_C_Upywrap_Utensorflow_Uinternal_Umacos___Utensorflow_Spython/libtensorflow_cc.2.dylib' (no such file), '/Users/emilythomas/anaconda3/lib/python3.11/site-packages/tensorflow/python/platform/libtensorflow_cc.2.dylib' (no such file), '/Users/emilythomas/anaconda3/lib/python3.11/site-packages/tensorflow/python/platform/../libtensorflow_cc.2.dylib' (no such file), '/Users/emilythomas/anaconda3/lib/python3.11/site-packages/tensorflow/python/platform/../../libtensorflow_cc.2.dylib' (no such file), '/Users/emilythomas/anaconda3/bin/../lib/libtensorflow_cc.2.dylib' (no such file), '/Users/emilythomas/anaconda3/bin/../lib/libtensorflow_cc.2.dylib' (no such file), '/System/Volumes/Preboot/Cryptexes/OS@rpath/libtensorflow_cc.2.dylib' (no such file), '/Users/emilythomas/anaconda3/lib/python3.11/site-packages/tensorflow/python/../../_solib_darwin_x86_64/libtensorflow_cc.2.dylib' (no such file), '/Users/emilythomas/anaconda3/lib/python3.11/site-packages/tensorflow/python/_pywrap_tensorflow_internal.so.runfiles/org_tensorflow/_solib_darwin_x86_64/libtensorflow_cc.2.dylib' (no such file), '/Users/emilythomas/anaconda3/lib/python3.11/site-packages/tensorflow/python/../../_solib_darwin_x86_64/_U_S_Stensorflow_Spython_C_Upywrap_Utensorflow_Uinternal.so_Ucclib___Utensorflow/libtensorflow_cc.2.dylib' (no such file), '/Users/emilythomas/anaconda3/lib/python3.11/site-packages/tensorflow/python/_pywrap_tensorflow_internal.so.runfiles/org_tensorflow/_solib_darwin_x86_64/_U_S_Stensorflow_Spython_C_Upywrap_Utensorflow_Uinternal.so_Ucclib___Utensorflow/libtensorflow_cc.2.dylib' (no such file), '/Users/emilythomas/anaconda3/lib/python3.11/site-packages/tensorflow/python/libtensorflow_cc.2.dylib' (no such file), '/Users/emilythomas/anaconda3/lib/python3.11/site-packages/tensorflow/python/../libtensorflow_cc.2.dylib' (no such file), '/Users/emilythomas/anaconda3/lib/python3.11/site-packages/tensorflow/python/platform/../../../_solib_darwin_x86_64/_U_S_Stensorflow_Clibtensorflow_Uframework_Uimport_Ulib___Utensorflow/libtensorflow_cc.2.dylib' (no such file), '/Users/emilythomas/anaconda3/lib/python3.11/site-packages/tensorflow/python/platform/_pywrap_cpu_feature_guard.so.runfiles/org_tensorflow/_solib_darwin_x86_64/_U_S_Stensorflow_Clibtensorflow_Uframework_Uimport_Ulib___Utensorflow/libtensorflow_cc.2.dylib' (no such file), '/Users/emilythomas/anaconda3/lib/python3.11/site-packages/tensorflow/python/platform/../../../_solib_darwin_x86_64/_U_S_Stensorflow_Spython_C_Upywrap_Utensorflow_Uinternal_Umacos___Utensorflow_Spython/libtensorflow_cc.2.dylib' (no such file), '/Users/emilythomas/anaconda3/lib/python3.11/site-packages/tensorflow/python/platform/_pywrap_cpu_feature_guard.so.runfiles/org_tensorflow/_solib_darwin_x86_64/_U_S_Stensorflow_Spython_C_Upywrap_Utensorflow_Uinternal_Umacos___Utensorflow_Spython/libtensorflow_cc.2.dylib' (no such file), '/Users/emilythomas/anaconda3/lib/python3.11/site-packages/tensorflow/python/platform/libtensorflow_cc.2.dylib' (no such file), '/Users/emilythomas/anaconda3/lib/python3.11/site-packages/tensorflow/python/platform/../libtensorflow_cc.2.dylib' (no such file), '/Users/emilythomas/anaconda3/lib/python3.11/site-packages/tensorflow/python/platform/../../libtensorflow_cc.2.dylib' (no such file), '/Users/emilythomas/anaconda3/lib/python3.11/site-packages/tensorflow/python/platform/../../../_solib_darwin_x86_64/_U_S_Stensorflow_Clibtensorflow_Uframework_Uimport_Ulib___Utensorflow/libtensorflow_cc.2.dylib' (no such file), '/Users/emilythomas/anaconda3/lib/python3.11/site-packages/tensorflow/python/platform/_pywrap_cpu_feature_guard.so.runfiles/org_tensorflow/_solib_darwin_x86_64/_U_S_Stensorflow_Clibtensorflow_Uframework_Uimport_Ulib___Utensorflow/libtensorflow_cc.2.dylib' (no such file), '/Users/emilythomas/anaconda3/lib/python3.11/site-packages/tensorflow/python/platform/../../../_solib_darwin_x86_64/_U_S_Stensorflow_Spython_C_Upywrap_Utensorflow_Uinternal_Umacos___Utensorflow_Spython/libtensorflow_cc.2.dylib' (no such file), '/Users/emilythomas/anaconda3/lib/python3.11/site-packages/tensorflow/python/platform/_pywrap_cpu_feature_guard.so.runfiles/org_tensorflow/_solib_darwin_x86_64/_U_S_Stensorflow_Spython_C_Upywrap_Utensorflow_Uinternal_Umacos___Utensorflow_Spython/libtensorflow_cc.2.dylib' (no such file), '/Users/emilythomas/anaconda3/lib/python3.11/site-packages/tensorflow/python/platform/libtensorflow_cc.2.dylib' (no such file), '/Users/emilythomas/anaconda3/lib/python3.11/site-packages/tensorflow/python/platform/../libtensorflow_cc.2.dylib' (no such file), '/Users/emilythomas/anaconda3/lib/python3.11/site-packages/tensorflow/python/platform/../../libtensorflow_cc.2.dylib' (no such file), '/Users/emilythomas/anaconda3/bin/../lib/libtensorflow_cc.2.dylib' (no such file), '/Users/emilythomas/anaconda3/bin/../lib/libtensorflow_cc.2.dylib' (no such file), '/usr/local/lib/libtensorflow_cc.2.dylib' (no such file), '/usr/lib/libtensorflow_cc.2.dylib' (no such file, not in dyld cache)",
     "output_type": "error",
     "traceback": [
      "\u001b[0;31m---------------------------------------------------------------------------\u001b[0m",
      "\u001b[0;31mImportError\u001b[0m                               Traceback (most recent call last)",
      "File \u001b[0;32m~/anaconda3/lib/python3.11/site-packages/transformers/utils/import_utils.py:1778\u001b[0m, in \u001b[0;36m_LazyModule._get_module\u001b[0;34m(self, module_name)\u001b[0m\n\u001b[1;32m   1777\u001b[0m \u001b[38;5;28;01mtry\u001b[39;00m:\n\u001b[0;32m-> 1778\u001b[0m     \u001b[38;5;28;01mreturn\u001b[39;00m importlib\u001b[38;5;241m.\u001b[39mimport_module(\u001b[38;5;124m\"\u001b[39m\u001b[38;5;124m.\u001b[39m\u001b[38;5;124m\"\u001b[39m \u001b[38;5;241m+\u001b[39m module_name, \u001b[38;5;28mself\u001b[39m\u001b[38;5;241m.\u001b[39m\u001b[38;5;18m__name__\u001b[39m)\n\u001b[1;32m   1779\u001b[0m \u001b[38;5;28;01mexcept\u001b[39;00m \u001b[38;5;167;01mException\u001b[39;00m \u001b[38;5;28;01mas\u001b[39;00m e:\n",
      "File \u001b[0;32m~/anaconda3/lib/python3.11/importlib/__init__.py:126\u001b[0m, in \u001b[0;36mimport_module\u001b[0;34m(name, package)\u001b[0m\n\u001b[1;32m    125\u001b[0m         level \u001b[38;5;241m+\u001b[39m\u001b[38;5;241m=\u001b[39m \u001b[38;5;241m1\u001b[39m\n\u001b[0;32m--> 126\u001b[0m \u001b[38;5;28;01mreturn\u001b[39;00m _bootstrap\u001b[38;5;241m.\u001b[39m_gcd_import(name[level:], package, level)\n",
      "File \u001b[0;32m<frozen importlib._bootstrap>:1204\u001b[0m, in \u001b[0;36m_gcd_import\u001b[0;34m(name, package, level)\u001b[0m\n",
      "File \u001b[0;32m<frozen importlib._bootstrap>:1176\u001b[0m, in \u001b[0;36m_find_and_load\u001b[0;34m(name, import_)\u001b[0m\n",
      "File \u001b[0;32m<frozen importlib._bootstrap>:1147\u001b[0m, in \u001b[0;36m_find_and_load_unlocked\u001b[0;34m(name, import_)\u001b[0m\n",
      "File \u001b[0;32m<frozen importlib._bootstrap>:690\u001b[0m, in \u001b[0;36m_load_unlocked\u001b[0;34m(spec)\u001b[0m\n",
      "File \u001b[0;32m<frozen importlib._bootstrap_external>:940\u001b[0m, in \u001b[0;36mexec_module\u001b[0;34m(self, module)\u001b[0m\n",
      "File \u001b[0;32m<frozen importlib._bootstrap>:241\u001b[0m, in \u001b[0;36m_call_with_frames_removed\u001b[0;34m(f, *args, **kwds)\u001b[0m\n",
      "File \u001b[0;32m~/anaconda3/lib/python3.11/site-packages/transformers/models/clip/modeling_clip.py:28\u001b[0m\n\u001b[1;32m     27\u001b[0m \u001b[38;5;28;01mfrom\u001b[39;00m \u001b[38;5;21;01m.\u001b[39;00m\u001b[38;5;21;01m.\u001b[39;00m\u001b[38;5;21;01m.\u001b[39;00m\u001b[38;5;21;01mmodeling_outputs\u001b[39;00m \u001b[38;5;28;01mimport\u001b[39;00m BaseModelOutput, BaseModelOutputWithPooling, ImageClassifierOutput\n\u001b[0;32m---> 28\u001b[0m \u001b[38;5;28;01mfrom\u001b[39;00m \u001b[38;5;21;01m.\u001b[39;00m\u001b[38;5;21;01m.\u001b[39;00m\u001b[38;5;21;01m.\u001b[39;00m\u001b[38;5;21;01mmodeling_utils\u001b[39;00m \u001b[38;5;28;01mimport\u001b[39;00m PreTrainedModel\n\u001b[1;32m     29\u001b[0m \u001b[38;5;28;01mfrom\u001b[39;00m \u001b[38;5;21;01m.\u001b[39;00m\u001b[38;5;21;01m.\u001b[39;00m\u001b[38;5;21;01m.\u001b[39;00m\u001b[38;5;21;01mpytorch_utils\u001b[39;00m \u001b[38;5;28;01mimport\u001b[39;00m is_torch_greater_or_equal_than_2_2\n",
      "File \u001b[0;32m~/anaconda3/lib/python3.11/site-packages/transformers/modeling_utils.py:48\u001b[0m\n\u001b[1;32m     47\u001b[0m \u001b[38;5;28;01mfrom\u001b[39;00m \u001b[38;5;21;01m.\u001b[39;00m\u001b[38;5;21;01mintegrations\u001b[39;00m \u001b[38;5;28;01mimport\u001b[39;00m PeftAdapterMixin, deepspeed_config, is_deepspeed_zero3_enabled\n\u001b[0;32m---> 48\u001b[0m \u001b[38;5;28;01mfrom\u001b[39;00m \u001b[38;5;21;01m.\u001b[39;00m\u001b[38;5;21;01mloss\u001b[39;00m\u001b[38;5;21;01m.\u001b[39;00m\u001b[38;5;21;01mloss_utils\u001b[39;00m \u001b[38;5;28;01mimport\u001b[39;00m LOSS_MAPPING\n\u001b[1;32m     49\u001b[0m \u001b[38;5;28;01mfrom\u001b[39;00m \u001b[38;5;21;01m.\u001b[39;00m\u001b[38;5;21;01mpytorch_utils\u001b[39;00m \u001b[38;5;28;01mimport\u001b[39;00m (  \u001b[38;5;66;03m# noqa: F401\u001b[39;00m\n\u001b[1;32m     50\u001b[0m     Conv1D,\n\u001b[1;32m     51\u001b[0m     apply_chunking_to_forward,\n\u001b[0;32m   (...)\u001b[0m\n\u001b[1;32m     57\u001b[0m     prune_linear_layer,\n\u001b[1;32m     58\u001b[0m )\n",
      "File \u001b[0;32m~/anaconda3/lib/python3.11/site-packages/transformers/loss/loss_utils.py:19\u001b[0m\n\u001b[1;32m     17\u001b[0m \u001b[38;5;28;01mfrom\u001b[39;00m \u001b[38;5;21;01mtorch\u001b[39;00m\u001b[38;5;21;01m.\u001b[39;00m\u001b[38;5;21;01mnn\u001b[39;00m \u001b[38;5;28;01mimport\u001b[39;00m BCEWithLogitsLoss, MSELoss\n\u001b[0;32m---> 19\u001b[0m \u001b[38;5;28;01mfrom\u001b[39;00m \u001b[38;5;21;01m.\u001b[39;00m\u001b[38;5;21;01mloss_deformable_detr\u001b[39;00m \u001b[38;5;28;01mimport\u001b[39;00m DeformableDetrForObjectDetectionLoss, DeformableDetrForSegmentationLoss\n\u001b[1;32m     20\u001b[0m \u001b[38;5;28;01mfrom\u001b[39;00m \u001b[38;5;21;01m.\u001b[39;00m\u001b[38;5;21;01mloss_for_object_detection\u001b[39;00m \u001b[38;5;28;01mimport\u001b[39;00m ForObjectDetectionLoss, ForSegmentationLoss\n",
      "File \u001b[0;32m~/anaconda3/lib/python3.11/site-packages/transformers/loss/loss_deformable_detr.py:4\u001b[0m\n\u001b[1;32m      2\u001b[0m \u001b[38;5;28;01mimport\u001b[39;00m \u001b[38;5;21;01mtorch\u001b[39;00m\u001b[38;5;21;01m.\u001b[39;00m\u001b[38;5;21;01mnn\u001b[39;00m \u001b[38;5;28;01mas\u001b[39;00m \u001b[38;5;21;01mnn\u001b[39;00m\n\u001b[0;32m----> 4\u001b[0m \u001b[38;5;28;01mfrom\u001b[39;00m \u001b[38;5;21;01m.\u001b[39;00m\u001b[38;5;21;01m.\u001b[39;00m\u001b[38;5;21;01mimage_transforms\u001b[39;00m \u001b[38;5;28;01mimport\u001b[39;00m center_to_corners_format\n\u001b[1;32m      5\u001b[0m \u001b[38;5;28;01mfrom\u001b[39;00m \u001b[38;5;21;01m.\u001b[39;00m\u001b[38;5;21;01m.\u001b[39;00m\u001b[38;5;21;01mutils\u001b[39;00m \u001b[38;5;28;01mimport\u001b[39;00m is_scipy_available\n",
      "File \u001b[0;32m~/anaconda3/lib/python3.11/site-packages/transformers/image_transforms.py:50\u001b[0m\n\u001b[1;32m     49\u001b[0m \u001b[38;5;28;01mif\u001b[39;00m is_tf_available():\n\u001b[0;32m---> 50\u001b[0m     \u001b[38;5;28;01mimport\u001b[39;00m \u001b[38;5;21;01mtensorflow\u001b[39;00m \u001b[38;5;28;01mas\u001b[39;00m \u001b[38;5;21;01mtf\u001b[39;00m\n\u001b[1;32m     52\u001b[0m \u001b[38;5;28;01mif\u001b[39;00m is_flax_available():\n",
      "File \u001b[0;32m~/anaconda3/lib/python3.11/site-packages/tensorflow/__init__.py:48\u001b[0m\n\u001b[1;32m     46\u001b[0m _tf2\u001b[38;5;241m.\u001b[39menable()\n\u001b[0;32m---> 48\u001b[0m \u001b[38;5;28;01mfrom\u001b[39;00m \u001b[38;5;21;01mtensorflow\u001b[39;00m\u001b[38;5;21;01m.\u001b[39;00m\u001b[38;5;21;01m_api\u001b[39;00m\u001b[38;5;21;01m.\u001b[39;00m\u001b[38;5;21;01mv2\u001b[39;00m \u001b[38;5;28;01mimport\u001b[39;00m __internal__\n\u001b[1;32m     49\u001b[0m \u001b[38;5;28;01mfrom\u001b[39;00m \u001b[38;5;21;01mtensorflow\u001b[39;00m\u001b[38;5;21;01m.\u001b[39;00m\u001b[38;5;21;01m_api\u001b[39;00m\u001b[38;5;21;01m.\u001b[39;00m\u001b[38;5;21;01mv2\u001b[39;00m \u001b[38;5;28;01mimport\u001b[39;00m __operators__\n",
      "File \u001b[0;32m~/anaconda3/lib/python3.11/site-packages/tensorflow/_api/v2/__internal__/__init__.py:8\u001b[0m\n\u001b[1;32m      6\u001b[0m \u001b[38;5;28;01mimport\u001b[39;00m \u001b[38;5;21;01msys\u001b[39;00m \u001b[38;5;28;01mas\u001b[39;00m \u001b[38;5;21;01m_sys\u001b[39;00m\n\u001b[0;32m----> 8\u001b[0m \u001b[38;5;28;01mfrom\u001b[39;00m \u001b[38;5;21;01mtensorflow\u001b[39;00m\u001b[38;5;21;01m.\u001b[39;00m\u001b[38;5;21;01m_api\u001b[39;00m\u001b[38;5;21;01m.\u001b[39;00m\u001b[38;5;21;01mv2\u001b[39;00m\u001b[38;5;21;01m.\u001b[39;00m\u001b[38;5;21;01m__internal__\u001b[39;00m \u001b[38;5;28;01mimport\u001b[39;00m autograph\n\u001b[1;32m      9\u001b[0m \u001b[38;5;28;01mfrom\u001b[39;00m \u001b[38;5;21;01mtensorflow\u001b[39;00m\u001b[38;5;21;01m.\u001b[39;00m\u001b[38;5;21;01m_api\u001b[39;00m\u001b[38;5;21;01m.\u001b[39;00m\u001b[38;5;21;01mv2\u001b[39;00m\u001b[38;5;21;01m.\u001b[39;00m\u001b[38;5;21;01m__internal__\u001b[39;00m \u001b[38;5;28;01mimport\u001b[39;00m decorator\n",
      "File \u001b[0;32m~/anaconda3/lib/python3.11/site-packages/tensorflow/_api/v2/__internal__/autograph/__init__.py:8\u001b[0m\n\u001b[1;32m      6\u001b[0m \u001b[38;5;28;01mimport\u001b[39;00m \u001b[38;5;21;01msys\u001b[39;00m \u001b[38;5;28;01mas\u001b[39;00m \u001b[38;5;21;01m_sys\u001b[39;00m\n\u001b[0;32m----> 8\u001b[0m \u001b[38;5;28;01mfrom\u001b[39;00m \u001b[38;5;21;01mtensorflow\u001b[39;00m\u001b[38;5;21;01m.\u001b[39;00m\u001b[38;5;21;01mpython\u001b[39;00m\u001b[38;5;21;01m.\u001b[39;00m\u001b[38;5;21;01mautograph\u001b[39;00m\u001b[38;5;21;01m.\u001b[39;00m\u001b[38;5;21;01mcore\u001b[39;00m\u001b[38;5;21;01m.\u001b[39;00m\u001b[38;5;21;01mag_ctx\u001b[39;00m \u001b[38;5;28;01mimport\u001b[39;00m control_status_ctx \u001b[38;5;66;03m# line: 34\u001b[39;00m\n\u001b[1;32m      9\u001b[0m \u001b[38;5;28;01mfrom\u001b[39;00m \u001b[38;5;21;01mtensorflow\u001b[39;00m\u001b[38;5;21;01m.\u001b[39;00m\u001b[38;5;21;01mpython\u001b[39;00m\u001b[38;5;21;01m.\u001b[39;00m\u001b[38;5;21;01mautograph\u001b[39;00m\u001b[38;5;21;01m.\u001b[39;00m\u001b[38;5;21;01mimpl\u001b[39;00m\u001b[38;5;21;01m.\u001b[39;00m\u001b[38;5;21;01mapi\u001b[39;00m \u001b[38;5;28;01mimport\u001b[39;00m tf_convert\n",
      "File \u001b[0;32m~/anaconda3/lib/python3.11/site-packages/tensorflow/python/autograph/core/ag_ctx.py:21\u001b[0m\n\u001b[1;32m     19\u001b[0m \u001b[38;5;28;01mimport\u001b[39;00m \u001b[38;5;21;01mthreading\u001b[39;00m\n\u001b[0;32m---> 21\u001b[0m \u001b[38;5;28;01mfrom\u001b[39;00m \u001b[38;5;21;01mtensorflow\u001b[39;00m\u001b[38;5;21;01m.\u001b[39;00m\u001b[38;5;21;01mpython\u001b[39;00m\u001b[38;5;21;01m.\u001b[39;00m\u001b[38;5;21;01mautograph\u001b[39;00m\u001b[38;5;21;01m.\u001b[39;00m\u001b[38;5;21;01mutils\u001b[39;00m \u001b[38;5;28;01mimport\u001b[39;00m ag_logging\n\u001b[1;32m     22\u001b[0m \u001b[38;5;28;01mfrom\u001b[39;00m \u001b[38;5;21;01mtensorflow\u001b[39;00m\u001b[38;5;21;01m.\u001b[39;00m\u001b[38;5;21;01mpython\u001b[39;00m\u001b[38;5;21;01m.\u001b[39;00m\u001b[38;5;21;01mutil\u001b[39;00m\u001b[38;5;21;01m.\u001b[39;00m\u001b[38;5;21;01mtf_export\u001b[39;00m \u001b[38;5;28;01mimport\u001b[39;00m tf_export\n",
      "File \u001b[0;32m~/anaconda3/lib/python3.11/site-packages/tensorflow/python/autograph/utils/__init__.py:17\u001b[0m\n\u001b[1;32m     15\u001b[0m \u001b[38;5;124;03m\"\"\"Utility module that contains APIs usable in the generated code.\"\"\"\u001b[39;00m\n\u001b[0;32m---> 17\u001b[0m \u001b[38;5;28;01mfrom\u001b[39;00m \u001b[38;5;21;01mtensorflow\u001b[39;00m\u001b[38;5;21;01m.\u001b[39;00m\u001b[38;5;21;01mpython\u001b[39;00m\u001b[38;5;21;01m.\u001b[39;00m\u001b[38;5;21;01mautograph\u001b[39;00m\u001b[38;5;21;01m.\u001b[39;00m\u001b[38;5;21;01mutils\u001b[39;00m\u001b[38;5;21;01m.\u001b[39;00m\u001b[38;5;21;01mcontext_managers\u001b[39;00m \u001b[38;5;28;01mimport\u001b[39;00m control_dependency_on_returns\n\u001b[1;32m     18\u001b[0m \u001b[38;5;28;01mfrom\u001b[39;00m \u001b[38;5;21;01mtensorflow\u001b[39;00m\u001b[38;5;21;01m.\u001b[39;00m\u001b[38;5;21;01mpython\u001b[39;00m\u001b[38;5;21;01m.\u001b[39;00m\u001b[38;5;21;01mautograph\u001b[39;00m\u001b[38;5;21;01m.\u001b[39;00m\u001b[38;5;21;01mutils\u001b[39;00m\u001b[38;5;21;01m.\u001b[39;00m\u001b[38;5;21;01mmisc\u001b[39;00m \u001b[38;5;28;01mimport\u001b[39;00m alias_tensors\n",
      "File \u001b[0;32m~/anaconda3/lib/python3.11/site-packages/tensorflow/python/autograph/utils/context_managers.py:19\u001b[0m\n\u001b[1;32m     17\u001b[0m \u001b[38;5;28;01mimport\u001b[39;00m \u001b[38;5;21;01mcontextlib\u001b[39;00m\n\u001b[0;32m---> 19\u001b[0m \u001b[38;5;28;01mfrom\u001b[39;00m \u001b[38;5;21;01mtensorflow\u001b[39;00m\u001b[38;5;21;01m.\u001b[39;00m\u001b[38;5;21;01mpython\u001b[39;00m\u001b[38;5;21;01m.\u001b[39;00m\u001b[38;5;21;01mframework\u001b[39;00m \u001b[38;5;28;01mimport\u001b[39;00m ops\n\u001b[1;32m     20\u001b[0m \u001b[38;5;28;01mfrom\u001b[39;00m \u001b[38;5;21;01mtensorflow\u001b[39;00m\u001b[38;5;21;01m.\u001b[39;00m\u001b[38;5;21;01mpython\u001b[39;00m\u001b[38;5;21;01m.\u001b[39;00m\u001b[38;5;21;01mops\u001b[39;00m \u001b[38;5;28;01mimport\u001b[39;00m tensor_array_ops\n",
      "File \u001b[0;32m~/anaconda3/lib/python3.11/site-packages/tensorflow/python/framework/ops.py:40\u001b[0m\n\u001b[1;32m     37\u001b[0m \u001b[38;5;66;03m# pywrap_tensorflow must be imported first to avoid protobuf issues.\u001b[39;00m\n\u001b[1;32m     38\u001b[0m \u001b[38;5;66;03m# (b/143110113)\u001b[39;00m\n\u001b[1;32m     39\u001b[0m \u001b[38;5;66;03m# pylint: disable=invalid-import-order,g-bad-import-order,unused-import\u001b[39;00m\n\u001b[0;32m---> 40\u001b[0m \u001b[38;5;28;01mfrom\u001b[39;00m \u001b[38;5;21;01mtensorflow\u001b[39;00m\u001b[38;5;21;01m.\u001b[39;00m\u001b[38;5;21;01mpython\u001b[39;00m \u001b[38;5;28;01mimport\u001b[39;00m pywrap_tensorflow\n\u001b[1;32m     41\u001b[0m \u001b[38;5;28;01mfrom\u001b[39;00m \u001b[38;5;21;01mtensorflow\u001b[39;00m\u001b[38;5;21;01m.\u001b[39;00m\u001b[38;5;21;01mpython\u001b[39;00m \u001b[38;5;28;01mimport\u001b[39;00m pywrap_tfe\n",
      "File \u001b[0;32m~/anaconda3/lib/python3.11/site-packages/tensorflow/python/pywrap_tensorflow.py:34\u001b[0m\n\u001b[1;32m     31\u001b[0m \u001b[38;5;66;03m# TODO(mdan): Cleanup antipattern: import for side effects.\u001b[39;00m\n\u001b[1;32m     32\u001b[0m \n\u001b[1;32m     33\u001b[0m \u001b[38;5;66;03m# Perform pre-load sanity checks in order to produce a more actionable error.\u001b[39;00m\n\u001b[0;32m---> 34\u001b[0m self_check\u001b[38;5;241m.\u001b[39mpreload_check()\n\u001b[1;32m     36\u001b[0m \u001b[38;5;66;03m# pylint: disable=wildcard-import,g-import-not-at-top,unused-import,line-too-long\u001b[39;00m\n",
      "File \u001b[0;32m~/anaconda3/lib/python3.11/site-packages/tensorflow/python/platform/self_check.py:63\u001b[0m, in \u001b[0;36mpreload_check\u001b[0;34m()\u001b[0m\n\u001b[1;32m     58\u001b[0m \u001b[38;5;28;01melse\u001b[39;00m:\n\u001b[1;32m     59\u001b[0m   \u001b[38;5;66;03m# Load a library that performs CPU feature guard checking.  Doing this here\u001b[39;00m\n\u001b[1;32m     60\u001b[0m   \u001b[38;5;66;03m# as a preload check makes it more likely that we detect any CPU feature\u001b[39;00m\n\u001b[1;32m     61\u001b[0m   \u001b[38;5;66;03m# incompatibilities before we trigger them (which would typically result in\u001b[39;00m\n\u001b[1;32m     62\u001b[0m   \u001b[38;5;66;03m# SIGILL).\u001b[39;00m\n\u001b[0;32m---> 63\u001b[0m   \u001b[38;5;28;01mfrom\u001b[39;00m \u001b[38;5;21;01mtensorflow\u001b[39;00m\u001b[38;5;21;01m.\u001b[39;00m\u001b[38;5;21;01mpython\u001b[39;00m\u001b[38;5;21;01m.\u001b[39;00m\u001b[38;5;21;01mplatform\u001b[39;00m \u001b[38;5;28;01mimport\u001b[39;00m _pywrap_cpu_feature_guard\n\u001b[1;32m     64\u001b[0m   _pywrap_cpu_feature_guard\u001b[38;5;241m.\u001b[39mInfoAboutUnusedCPUFeatures()\n",
      "\u001b[0;31mImportError\u001b[0m: dlopen(/Users/emilythomas/anaconda3/lib/python3.11/site-packages/tensorflow/python/platform/_pywrap_cpu_feature_guard.so, 0x0002): Library not loaded: @rpath/libtensorflow_cc.2.dylib\n  Referenced from: <FFF31651-3926-3E79-A442-143B7156FB13> /Users/emilythomas/anaconda3/lib/python3.11/site-packages/tensorflow/python/_pywrap_tensorflow_internal.so\n  Reason: tried: '/Users/emilythomas/anaconda3/lib/python3.11/site-packages/tensorflow/python/../../_solib_darwin_x86_64/libtensorflow_cc.2.dylib' (no such file), '/Users/emilythomas/anaconda3/lib/python3.11/site-packages/tensorflow/python/_pywrap_tensorflow_internal.so.runfiles/org_tensorflow/_solib_darwin_x86_64/libtensorflow_cc.2.dylib' (no such file), '/Users/emilythomas/anaconda3/lib/python3.11/site-packages/tensorflow/python/../../_solib_darwin_x86_64/_U_S_Stensorflow_Spython_C_Upywrap_Utensorflow_Uinternal.so_Ucclib___Utensorflow/libtensorflow_cc.2.dylib' (no such file), '/Users/emilythomas/anaconda3/lib/python3.11/site-packages/tensorflow/python/_pywrap_tensorflow_internal.so.runfiles/org_tensorflow/_solib_darwin_x86_64/_U_S_Stensorflow_Spython_C_Upywrap_Utensorflow_Uinternal.so_Ucclib___Utensorflow/libtensorflow_cc.2.dylib' (no such file), '/Users/emilythomas/anaconda3/lib/python3.11/site-packages/tensorflow/python/libtensorflow_cc.2.dylib' (no such file), '/Users/emilythomas/anaconda3/lib/python3.11/site-packages/tensorflow/python/../libtensorflow_cc.2.dylib' (no such file), '/Users/emilythomas/anaconda3/lib/python3.11/site-packages/tensorflow/python/platform/../../../_solib_darwin_x86_64/_U_S_Stensorflow_Clibtensorflow_Uframework_Uimport_Ulib___Utensorflow/libtensorflow_cc.2.dylib' (no such file), '/Users/emilythomas/anaconda3/lib/python3.11/site-packages/tensorflow/python/platform/_pywrap_cpu_feature_guard.so.runfiles/org_tensorflow/_solib_darwin_x86_64/_U_S_Stensorflow_Clibtensorflow_Uframework_Uimport_Ulib___Utensorflow/libtensorflow_cc.2.dylib' (no such file), '/Users/emilythomas/anaconda3/lib/python3.11/site-packages/tensorflow/python/platform/../../../_solib_darwin_x86_64/_U_S_Stensorflow_Spython_C_Upywrap_Utensorflow_Uinternal_Umacos___Utensorflow_Spython/libtensorflow_cc.2.dylib' (no such file), '/Users/emilythomas/anaconda3/lib/python3.11/site-packages/tensorflow/python/platform/_pywrap_cpu_feature_guard.so.runfiles/org_tensorflow/_solib_darwin_x86_64/_U_S_Stensorflow_Spython_C_Upywrap_Utensorflow_Uinternal_Umacos___Utensorflow_Spython/libtensorflow_cc.2.dylib' (no such file), '/Users/emilythomas/anaconda3/lib/python3.11/site-packages/tensorflow/python/platform/libtensorflow_cc.2.dylib' (no such file), '/Users/emilythomas/anaconda3/lib/python3.11/site-packages/tensorflow/python/platform/../libtensorflow_cc.2.dylib' (no such file), '/Users/emilythomas/anaconda3/lib/python3.11/site-packages/tensorflow/python/platform/../../libtensorflow_cc.2.dylib' (no such file), '/Users/emilythomas/anaconda3/lib/python3.11/site-packages/tensorflow/python/platform/../../../_solib_darwin_x86_64/_U_S_Stensorflow_Clibtensorflow_Uframework_Uimport_Ulib___Utensorflow/libtensorflow_cc.2.dylib' (no such file), '/Users/emilythomas/anaconda3/lib/python3.11/site-packages/tensorflow/python/platform/_pywrap_cpu_feature_guard.so.runfiles/org_tensorflow/_solib_darwin_x86_64/_U_S_Stensorflow_Clibtensorflow_Uframework_Uimport_Ulib___Utensorflow/libtensorflow_cc.2.dylib' (no such file), '/Users/emilythomas/anaconda3/lib/python3.11/site-packages/tensorflow/python/platform/../../../_solib_darwin_x86_64/_U_S_Stensorflow_Spython_C_Upywrap_Utensorflow_Uinternal_Umacos___Utensorflow_Spython/libtensorflow_cc.2.dylib' (no such file), '/Users/emilythomas/anaconda3/lib/python3.11/site-packages/tensorflow/python/platform/_pywrap_cpu_feature_guard.so.runfiles/org_tensorflow/_solib_darwin_x86_64/_U_S_Stensorflow_Spython_C_Upywrap_Utensorflow_Uinternal_Umacos___Utensorflow_Spython/libtensorflow_cc.2.dylib' (no such file), '/Users/emilythomas/anaconda3/lib/python3.11/site-packages/tensorflow/python/platform/libtensorflow_cc.2.dylib' (no such file), '/Users/emilythomas/anaconda3/lib/python3.11/site-packages/tensorflow/python/platform/../libtensorflow_cc.2.dylib' (no such file), '/Users/emilythomas/anaconda3/lib/python3.11/site-packages/tensorflow/python/platform/../../libtensorflow_cc.2.dylib' (no such file), '/Users/emilythomas/anaconda3/bin/../lib/libtensorflow_cc.2.dylib' (no such file), '/Users/emilythomas/anaconda3/bin/../lib/libtensorflow_cc.2.dylib' (no such file), '/System/Volumes/Preboot/Cryptexes/OS@rpath/libtensorflow_cc.2.dylib' (no such file), '/Users/emilythomas/anaconda3/lib/python3.11/site-packages/tensorflow/python/../../_solib_darwin_x86_64/libtensorflow_cc.2.dylib' (no such file), '/Users/emilythomas/anaconda3/lib/python3.11/site-packages/tensorflow/python/_pywrap_tensorflow_internal.so.runfiles/org_tensorflow/_solib_darwin_x86_64/libtensorflow_cc.2.dylib' (no such file), '/Users/emilythomas/anaconda3/lib/python3.11/site-packages/tensorflow/python/../../_solib_darwin_x86_64/_U_S_Stensorflow_Spython_C_Upywrap_Utensorflow_Uinternal.so_Ucclib___Utensorflow/libtensorflow_cc.2.dylib' (no such file), '/Users/emilythomas/anaconda3/lib/python3.11/site-packages/tensorflow/python/_pywrap_tensorflow_internal.so.runfiles/org_tensorflow/_solib_darwin_x86_64/_U_S_Stensorflow_Spython_C_Upywrap_Utensorflow_Uinternal.so_Ucclib___Utensorflow/libtensorflow_cc.2.dylib' (no such file), '/Users/emilythomas/anaconda3/lib/python3.11/site-packages/tensorflow/python/libtensorflow_cc.2.dylib' (no such file), '/Users/emilythomas/anaconda3/lib/python3.11/site-packages/tensorflow/python/../libtensorflow_cc.2.dylib' (no such file), '/Users/emilythomas/anaconda3/lib/python3.11/site-packages/tensorflow/python/platform/../../../_solib_darwin_x86_64/_U_S_Stensorflow_Clibtensorflow_Uframework_Uimport_Ulib___Utensorflow/libtensorflow_cc.2.dylib' (no such file), '/Users/emilythomas/anaconda3/lib/python3.11/site-packages/tensorflow/python/platform/_pywrap_cpu_feature_guard.so.runfiles/org_tensorflow/_solib_darwin_x86_64/_U_S_Stensorflow_Clibtensorflow_Uframework_Uimport_Ulib___Utensorflow/libtensorflow_cc.2.dylib' (no such file), '/Users/emilythomas/anaconda3/lib/python3.11/site-packages/tensorflow/python/platform/../../../_solib_darwin_x86_64/_U_S_Stensorflow_Spython_C_Upywrap_Utensorflow_Uinternal_Umacos___Utensorflow_Spython/libtensorflow_cc.2.dylib' (no such file), '/Users/emilythomas/anaconda3/lib/python3.11/site-packages/tensorflow/python/platform/_pywrap_cpu_feature_guard.so.runfiles/org_tensorflow/_solib_darwin_x86_64/_U_S_Stensorflow_Spython_C_Upywrap_Utensorflow_Uinternal_Umacos___Utensorflow_Spython/libtensorflow_cc.2.dylib' (no such file), '/Users/emilythomas/anaconda3/lib/python3.11/site-packages/tensorflow/python/platform/libtensorflow_cc.2.dylib' (no such file), '/Users/emilythomas/anaconda3/lib/python3.11/site-packages/tensorflow/python/platform/../libtensorflow_cc.2.dylib' (no such file), '/Users/emilythomas/anaconda3/lib/python3.11/site-packages/tensorflow/python/platform/../../libtensorflow_cc.2.dylib' (no such file), '/Users/emilythomas/anaconda3/lib/python3.11/site-packages/tensorflow/python/platform/../../../_solib_darwin_x86_64/_U_S_Stensorflow_Clibtensorflow_Uframework_Uimport_Ulib___Utensorflow/libtensorflow_cc.2.dylib' (no such file), '/Users/emilythomas/anaconda3/lib/python3.11/site-packages/tensorflow/python/platform/_pywrap_cpu_feature_guard.so.runfiles/org_tensorflow/_solib_darwin_x86_64/_U_S_Stensorflow_Clibtensorflow_Uframework_Uimport_Ulib___Utensorflow/libtensorflow_cc.2.dylib' (no such file), '/Users/emilythomas/anaconda3/lib/python3.11/site-packages/tensorflow/python/platform/../../../_solib_darwin_x86_64/_U_S_Stensorflow_Spython_C_Upywrap_Utensorflow_Uinternal_Umacos___Utensorflow_Spython/libtensorflow_cc.2.dylib' (no such file), '/Users/emilythomas/anaconda3/lib/python3.11/site-packages/tensorflow/python/platform/_pywrap_cpu_feature_guard.so.runfiles/org_tensorflow/_solib_darwin_x86_64/_U_S_Stensorflow_Spython_C_Upywrap_Utensorflow_Uinternal_Umacos___Utensorflow_Spython/libtensorflow_cc.2.dylib' (no such file), '/Users/emilythomas/anaconda3/lib/python3.11/site-packages/tensorflow/python/platform/libtensorflow_cc.2.dylib' (no such file), '/Users/emilythomas/anaconda3/lib/python3.11/site-packages/tensorflow/python/platform/../libtensorflow_cc.2.dylib' (no such file), '/Users/emilythomas/anaconda3/lib/python3.11/site-packages/tensorflow/python/platform/../../libtensorflow_cc.2.dylib' (no such file), '/Users/emilythomas/anaconda3/bin/../lib/libtensorflow_cc.2.dylib' (no such file), '/Users/emilythomas/anaconda3/bin/../lib/libtensorflow_cc.2.dylib' (no such file), '/usr/local/lib/libtensorflow_cc.2.dylib' (no such file), '/usr/lib/libtensorflow_cc.2.dylib' (no such file, not in dyld cache)",
      "\nThe above exception was the direct cause of the following exception:\n",
      "\u001b[0;31mRuntimeError\u001b[0m                              Traceback (most recent call last)",
      "Cell \u001b[0;32mIn[9], line 9\u001b[0m\n\u001b[1;32m      7\u001b[0m \u001b[38;5;28mprint\u001b[39m(transformers\u001b[38;5;241m.\u001b[39m__version__)\n\u001b[1;32m      8\u001b[0m \u001b[38;5;28;01mfrom\u001b[39;00m \u001b[38;5;21;01mtransformers\u001b[39;00m \u001b[38;5;28;01mimport\u001b[39;00m AutoTokenizer\n\u001b[0;32m----> 9\u001b[0m \u001b[38;5;28;01mfrom\u001b[39;00m \u001b[38;5;21;01mtransformers\u001b[39;00m \u001b[38;5;28;01mimport\u001b[39;00m CLIPModel\n",
      "File \u001b[0;32m<frozen importlib._bootstrap>:1229\u001b[0m, in \u001b[0;36m_handle_fromlist\u001b[0;34m(module, fromlist, import_, recursive)\u001b[0m\n",
      "File \u001b[0;32m~/anaconda3/lib/python3.11/site-packages/transformers/utils/import_utils.py:1767\u001b[0m, in \u001b[0;36m_LazyModule.__getattr__\u001b[0;34m(self, name)\u001b[0m\n\u001b[1;32m   1765\u001b[0m \u001b[38;5;28;01melif\u001b[39;00m name \u001b[38;5;129;01min\u001b[39;00m \u001b[38;5;28mself\u001b[39m\u001b[38;5;241m.\u001b[39m_class_to_module\u001b[38;5;241m.\u001b[39mkeys():\n\u001b[1;32m   1766\u001b[0m     module \u001b[38;5;241m=\u001b[39m \u001b[38;5;28mself\u001b[39m\u001b[38;5;241m.\u001b[39m_get_module(\u001b[38;5;28mself\u001b[39m\u001b[38;5;241m.\u001b[39m_class_to_module[name])\n\u001b[0;32m-> 1767\u001b[0m     value \u001b[38;5;241m=\u001b[39m \u001b[38;5;28mgetattr\u001b[39m(module, name)\n\u001b[1;32m   1768\u001b[0m \u001b[38;5;28;01melif\u001b[39;00m name \u001b[38;5;129;01min\u001b[39;00m \u001b[38;5;28mself\u001b[39m\u001b[38;5;241m.\u001b[39m_modules:\n\u001b[1;32m   1769\u001b[0m     value \u001b[38;5;241m=\u001b[39m \u001b[38;5;28mself\u001b[39m\u001b[38;5;241m.\u001b[39m_get_module(name)\n",
      "File \u001b[0;32m~/anaconda3/lib/python3.11/site-packages/transformers/utils/import_utils.py:1766\u001b[0m, in \u001b[0;36m_LazyModule.__getattr__\u001b[0;34m(self, name)\u001b[0m\n\u001b[1;32m   1764\u001b[0m     value \u001b[38;5;241m=\u001b[39m Placeholder\n\u001b[1;32m   1765\u001b[0m \u001b[38;5;28;01melif\u001b[39;00m name \u001b[38;5;129;01min\u001b[39;00m \u001b[38;5;28mself\u001b[39m\u001b[38;5;241m.\u001b[39m_class_to_module\u001b[38;5;241m.\u001b[39mkeys():\n\u001b[0;32m-> 1766\u001b[0m     module \u001b[38;5;241m=\u001b[39m \u001b[38;5;28mself\u001b[39m\u001b[38;5;241m.\u001b[39m_get_module(\u001b[38;5;28mself\u001b[39m\u001b[38;5;241m.\u001b[39m_class_to_module[name])\n\u001b[1;32m   1767\u001b[0m     value \u001b[38;5;241m=\u001b[39m \u001b[38;5;28mgetattr\u001b[39m(module, name)\n\u001b[1;32m   1768\u001b[0m \u001b[38;5;28;01melif\u001b[39;00m name \u001b[38;5;129;01min\u001b[39;00m \u001b[38;5;28mself\u001b[39m\u001b[38;5;241m.\u001b[39m_modules:\n",
      "File \u001b[0;32m~/anaconda3/lib/python3.11/site-packages/transformers/utils/import_utils.py:1780\u001b[0m, in \u001b[0;36m_LazyModule._get_module\u001b[0;34m(self, module_name)\u001b[0m\n\u001b[1;32m   1778\u001b[0m     \u001b[38;5;28;01mreturn\u001b[39;00m importlib\u001b[38;5;241m.\u001b[39mimport_module(\u001b[38;5;124m\"\u001b[39m\u001b[38;5;124m.\u001b[39m\u001b[38;5;124m\"\u001b[39m \u001b[38;5;241m+\u001b[39m module_name, \u001b[38;5;28mself\u001b[39m\u001b[38;5;241m.\u001b[39m\u001b[38;5;18m__name__\u001b[39m)\n\u001b[1;32m   1779\u001b[0m \u001b[38;5;28;01mexcept\u001b[39;00m \u001b[38;5;167;01mException\u001b[39;00m \u001b[38;5;28;01mas\u001b[39;00m e:\n\u001b[0;32m-> 1780\u001b[0m     \u001b[38;5;28;01mraise\u001b[39;00m \u001b[38;5;167;01mRuntimeError\u001b[39;00m(\n\u001b[1;32m   1781\u001b[0m         \u001b[38;5;124mf\u001b[39m\u001b[38;5;124m\"\u001b[39m\u001b[38;5;124mFailed to import \u001b[39m\u001b[38;5;132;01m{\u001b[39;00m\u001b[38;5;28mself\u001b[39m\u001b[38;5;241m.\u001b[39m\u001b[38;5;18m__name__\u001b[39m\u001b[38;5;132;01m}\u001b[39;00m\u001b[38;5;124m.\u001b[39m\u001b[38;5;132;01m{\u001b[39;00mmodule_name\u001b[38;5;132;01m}\u001b[39;00m\u001b[38;5;124m because of the following error (look up to see its\u001b[39m\u001b[38;5;124m\"\u001b[39m\n\u001b[1;32m   1782\u001b[0m         \u001b[38;5;124mf\u001b[39m\u001b[38;5;124m\"\u001b[39m\u001b[38;5;124m traceback):\u001b[39m\u001b[38;5;130;01m\\n\u001b[39;00m\u001b[38;5;132;01m{\u001b[39;00me\u001b[38;5;132;01m}\u001b[39;00m\u001b[38;5;124m\"\u001b[39m\n\u001b[1;32m   1783\u001b[0m     ) \u001b[38;5;28;01mfrom\u001b[39;00m \u001b[38;5;21;01me\u001b[39;00m\n",
      "\u001b[0;31mRuntimeError\u001b[0m: Failed to import transformers.models.clip.modeling_clip because of the following error (look up to see its traceback):\ndlopen(/Users/emilythomas/anaconda3/lib/python3.11/site-packages/tensorflow/python/platform/_pywrap_cpu_feature_guard.so, 0x0002): Library not loaded: @rpath/libtensorflow_cc.2.dylib\n  Referenced from: <FFF31651-3926-3E79-A442-143B7156FB13> /Users/emilythomas/anaconda3/lib/python3.11/site-packages/tensorflow/python/_pywrap_tensorflow_internal.so\n  Reason: tried: '/Users/emilythomas/anaconda3/lib/python3.11/site-packages/tensorflow/python/../../_solib_darwin_x86_64/libtensorflow_cc.2.dylib' (no such file), '/Users/emilythomas/anaconda3/lib/python3.11/site-packages/tensorflow/python/_pywrap_tensorflow_internal.so.runfiles/org_tensorflow/_solib_darwin_x86_64/libtensorflow_cc.2.dylib' (no such file), '/Users/emilythomas/anaconda3/lib/python3.11/site-packages/tensorflow/python/../../_solib_darwin_x86_64/_U_S_Stensorflow_Spython_C_Upywrap_Utensorflow_Uinternal.so_Ucclib___Utensorflow/libtensorflow_cc.2.dylib' (no such file), '/Users/emilythomas/anaconda3/lib/python3.11/site-packages/tensorflow/python/_pywrap_tensorflow_internal.so.runfiles/org_tensorflow/_solib_darwin_x86_64/_U_S_Stensorflow_Spython_C_Upywrap_Utensorflow_Uinternal.so_Ucclib___Utensorflow/libtensorflow_cc.2.dylib' (no such file), '/Users/emilythomas/anaconda3/lib/python3.11/site-packages/tensorflow/python/libtensorflow_cc.2.dylib' (no such file), '/Users/emilythomas/anaconda3/lib/python3.11/site-packages/tensorflow/python/../libtensorflow_cc.2.dylib' (no such file), '/Users/emilythomas/anaconda3/lib/python3.11/site-packages/tensorflow/python/platform/../../../_solib_darwin_x86_64/_U_S_Stensorflow_Clibtensorflow_Uframework_Uimport_Ulib___Utensorflow/libtensorflow_cc.2.dylib' (no such file), '/Users/emilythomas/anaconda3/lib/python3.11/site-packages/tensorflow/python/platform/_pywrap_cpu_feature_guard.so.runfiles/org_tensorflow/_solib_darwin_x86_64/_U_S_Stensorflow_Clibtensorflow_Uframework_Uimport_Ulib___Utensorflow/libtensorflow_cc.2.dylib' (no such file), '/Users/emilythomas/anaconda3/lib/python3.11/site-packages/tensorflow/python/platform/../../../_solib_darwin_x86_64/_U_S_Stensorflow_Spython_C_Upywrap_Utensorflow_Uinternal_Umacos___Utensorflow_Spython/libtensorflow_cc.2.dylib' (no such file), '/Users/emilythomas/anaconda3/lib/python3.11/site-packages/tensorflow/python/platform/_pywrap_cpu_feature_guard.so.runfiles/org_tensorflow/_solib_darwin_x86_64/_U_S_Stensorflow_Spython_C_Upywrap_Utensorflow_Uinternal_Umacos___Utensorflow_Spython/libtensorflow_cc.2.dylib' (no such file), '/Users/emilythomas/anaconda3/lib/python3.11/site-packages/tensorflow/python/platform/libtensorflow_cc.2.dylib' (no such file), '/Users/emilythomas/anaconda3/lib/python3.11/site-packages/tensorflow/python/platform/../libtensorflow_cc.2.dylib' (no such file), '/Users/emilythomas/anaconda3/lib/python3.11/site-packages/tensorflow/python/platform/../../libtensorflow_cc.2.dylib' (no such file), '/Users/emilythomas/anaconda3/lib/python3.11/site-packages/tensorflow/python/platform/../../../_solib_darwin_x86_64/_U_S_Stensorflow_Clibtensorflow_Uframework_Uimport_Ulib___Utensorflow/libtensorflow_cc.2.dylib' (no such file), '/Users/emilythomas/anaconda3/lib/python3.11/site-packages/tensorflow/python/platform/_pywrap_cpu_feature_guard.so.runfiles/org_tensorflow/_solib_darwin_x86_64/_U_S_Stensorflow_Clibtensorflow_Uframework_Uimport_Ulib___Utensorflow/libtensorflow_cc.2.dylib' (no such file), '/Users/emilythomas/anaconda3/lib/python3.11/site-packages/tensorflow/python/platform/../../../_solib_darwin_x86_64/_U_S_Stensorflow_Spython_C_Upywrap_Utensorflow_Uinternal_Umacos___Utensorflow_Spython/libtensorflow_cc.2.dylib' (no such file), '/Users/emilythomas/anaconda3/lib/python3.11/site-packages/tensorflow/python/platform/_pywrap_cpu_feature_guard.so.runfiles/org_tensorflow/_solib_darwin_x86_64/_U_S_Stensorflow_Spython_C_Upywrap_Utensorflow_Uinternal_Umacos___Utensorflow_Spython/libtensorflow_cc.2.dylib' (no such file), '/Users/emilythomas/anaconda3/lib/python3.11/site-packages/tensorflow/python/platform/libtensorflow_cc.2.dylib' (no such file), '/Users/emilythomas/anaconda3/lib/python3.11/site-packages/tensorflow/python/platform/../libtensorflow_cc.2.dylib' (no such file), '/Users/emilythomas/anaconda3/lib/python3.11/site-packages/tensorflow/python/platform/../../libtensorflow_cc.2.dylib' (no such file), '/Users/emilythomas/anaconda3/bin/../lib/libtensorflow_cc.2.dylib' (no such file), '/Users/emilythomas/anaconda3/bin/../lib/libtensorflow_cc.2.dylib' (no such file), '/System/Volumes/Preboot/Cryptexes/OS@rpath/libtensorflow_cc.2.dylib' (no such file), '/Users/emilythomas/anaconda3/lib/python3.11/site-packages/tensorflow/python/../../_solib_darwin_x86_64/libtensorflow_cc.2.dylib' (no such file), '/Users/emilythomas/anaconda3/lib/python3.11/site-packages/tensorflow/python/_pywrap_tensorflow_internal.so.runfiles/org_tensorflow/_solib_darwin_x86_64/libtensorflow_cc.2.dylib' (no such file), '/Users/emilythomas/anaconda3/lib/python3.11/site-packages/tensorflow/python/../../_solib_darwin_x86_64/_U_S_Stensorflow_Spython_C_Upywrap_Utensorflow_Uinternal.so_Ucclib___Utensorflow/libtensorflow_cc.2.dylib' (no such file), '/Users/emilythomas/anaconda3/lib/python3.11/site-packages/tensorflow/python/_pywrap_tensorflow_internal.so.runfiles/org_tensorflow/_solib_darwin_x86_64/_U_S_Stensorflow_Spython_C_Upywrap_Utensorflow_Uinternal.so_Ucclib___Utensorflow/libtensorflow_cc.2.dylib' (no such file), '/Users/emilythomas/anaconda3/lib/python3.11/site-packages/tensorflow/python/libtensorflow_cc.2.dylib' (no such file), '/Users/emilythomas/anaconda3/lib/python3.11/site-packages/tensorflow/python/../libtensorflow_cc.2.dylib' (no such file), '/Users/emilythomas/anaconda3/lib/python3.11/site-packages/tensorflow/python/platform/../../../_solib_darwin_x86_64/_U_S_Stensorflow_Clibtensorflow_Uframework_Uimport_Ulib___Utensorflow/libtensorflow_cc.2.dylib' (no such file), '/Users/emilythomas/anaconda3/lib/python3.11/site-packages/tensorflow/python/platform/_pywrap_cpu_feature_guard.so.runfiles/org_tensorflow/_solib_darwin_x86_64/_U_S_Stensorflow_Clibtensorflow_Uframework_Uimport_Ulib___Utensorflow/libtensorflow_cc.2.dylib' (no such file), '/Users/emilythomas/anaconda3/lib/python3.11/site-packages/tensorflow/python/platform/../../../_solib_darwin_x86_64/_U_S_Stensorflow_Spython_C_Upywrap_Utensorflow_Uinternal_Umacos___Utensorflow_Spython/libtensorflow_cc.2.dylib' (no such file), '/Users/emilythomas/anaconda3/lib/python3.11/site-packages/tensorflow/python/platform/_pywrap_cpu_feature_guard.so.runfiles/org_tensorflow/_solib_darwin_x86_64/_U_S_Stensorflow_Spython_C_Upywrap_Utensorflow_Uinternal_Umacos___Utensorflow_Spython/libtensorflow_cc.2.dylib' (no such file), '/Users/emilythomas/anaconda3/lib/python3.11/site-packages/tensorflow/python/platform/libtensorflow_cc.2.dylib' (no such file), '/Users/emilythomas/anaconda3/lib/python3.11/site-packages/tensorflow/python/platform/../libtensorflow_cc.2.dylib' (no such file), '/Users/emilythomas/anaconda3/lib/python3.11/site-packages/tensorflow/python/platform/../../libtensorflow_cc.2.dylib' (no such file), '/Users/emilythomas/anaconda3/lib/python3.11/site-packages/tensorflow/python/platform/../../../_solib_darwin_x86_64/_U_S_Stensorflow_Clibtensorflow_Uframework_Uimport_Ulib___Utensorflow/libtensorflow_cc.2.dylib' (no such file), '/Users/emilythomas/anaconda3/lib/python3.11/site-packages/tensorflow/python/platform/_pywrap_cpu_feature_guard.so.runfiles/org_tensorflow/_solib_darwin_x86_64/_U_S_Stensorflow_Clibtensorflow_Uframework_Uimport_Ulib___Utensorflow/libtensorflow_cc.2.dylib' (no such file), '/Users/emilythomas/anaconda3/lib/python3.11/site-packages/tensorflow/python/platform/../../../_solib_darwin_x86_64/_U_S_Stensorflow_Spython_C_Upywrap_Utensorflow_Uinternal_Umacos___Utensorflow_Spython/libtensorflow_cc.2.dylib' (no such file), '/Users/emilythomas/anaconda3/lib/python3.11/site-packages/tensorflow/python/platform/_pywrap_cpu_feature_guard.so.runfiles/org_tensorflow/_solib_darwin_x86_64/_U_S_Stensorflow_Spython_C_Upywrap_Utensorflow_Uinternal_Umacos___Utensorflow_Spython/libtensorflow_cc.2.dylib' (no such file), '/Users/emilythomas/anaconda3/lib/python3.11/site-packages/tensorflow/python/platform/libtensorflow_cc.2.dylib' (no such file), '/Users/emilythomas/anaconda3/lib/python3.11/site-packages/tensorflow/python/platform/../libtensorflow_cc.2.dylib' (no such file), '/Users/emilythomas/anaconda3/lib/python3.11/site-packages/tensorflow/python/platform/../../libtensorflow_cc.2.dylib' (no such file), '/Users/emilythomas/anaconda3/bin/../lib/libtensorflow_cc.2.dylib' (no such file), '/Users/emilythomas/anaconda3/bin/../lib/libtensorflow_cc.2.dylib' (no such file), '/usr/local/lib/libtensorflow_cc.2.dylib' (no such file), '/usr/lib/libtensorflow_cc.2.dylib' (no such file, not in dyld cache)"
     ]
    }
   ],
   "source": [
    "import torch\n",
    "from models.image_encoder import Image_Encoder\n",
    "from models.recipe_encoder import RecipeEncoder\n",
    "from models.MMR import MMR  # Import your updated MMR module\n",
    "from runner import Runner  # Assuming your Runner class is saved in runner.py\n",
    "import transformers \n",
    "print(transformers.__version__)\n",
    "from transformers import AutoTokenizer\n",
    "from transformers import CLIPModel\n"
   ]
  },
  {
   "cell_type": "code",
   "execution_count": null,
   "id": "69bb0b79",
   "metadata": {},
   "outputs": [],
   "source": [
    "model_name = \"openai/clip-vit-base-patch16\"\n",
    "clip_model = CLIPModel.from_pretrained(model_name)\n",
    "tokenizer = AutoTokenizer.from_pretrained(model_name)\n",
    "\n"
   ]
  },
  {
   "cell_type": "code",
   "execution_count": null,
   "id": "e92679e6",
   "metadata": {},
   "outputs": [],
   "source": [
    "# Mock data for testing (replace with actual preprocessed data)\n",
    "batch_size = 8\n",
    "seq_len = 45\n",
    "hidden_dim = 512\n",
    "vocab_size = 10000\n",
    "max_len = 50\n",
    "device = torch.device(\"cuda\" if torch.cuda.is_available() else \"cpu\")\n",
    "clip_model, _ = clip.load(\"ViT-B/32\", device=device) \n",
    "\n",
    "# Mock tokenized inputs\n",
    "tokenized_ingredients = torch.randint(0, vocab_size, (100, seq_len)).tolist()\n",
    "tokenized_instructions = torch.randint(0, vocab_size, (100, seq_len)).tolist()\n",
    "tokenized_titles = torch.randint(0, vocab_size, (100, seq_len)).tolist()\n",
    "image_tensors = torch.rand(100, 3, 224, 224)  # Simulate 100 images of shape 3x224x224\n",
    "tokenized_labels = {\n",
    "    'input_ids': torch.randint(0, 2, (100,)),  # Binary labels\n",
    "    'attention_mask': torch.ones(100)\n",
    "}\n",
    "\n",
    "from runner import Runner as R\n",
    "kwargs = {\n",
    "    'epochs': 10,\n",
    "    'ingredient_tokens': filtered_df['tokenized_ingredients'].to_list(),\n",
    "    'instruction_tokens': filtered_df['tokenized_instructions'].to_list(),\n",
    "    'title_tokens': filtered_df['tokenized_titles'].to_list(),\n",
    "    'image_tensors': filtered_tensors,\n",
    "    'image_labels': tokenized_labels,\n",
    "    'device': device,\n",
    "    'vocab_size': total_vocab_size,\n",
    "    'max_len': total_max,\n",
    "    'clip_model': clip_model,\n",
    "    'optimizer': 'adam',\n",
    "    'learning_rate': 1e-3,\n",
    "    'batch_size': 4,\n",
    "    'instance_weight': 1,\n",
    "    'sem_weight': 1,\n",
    "    'itm_weight': 1,\n",
    "    'max_lengths': {\n",
    "        'ingredient_tokens': max_length_ing,\n",
    "        'instruction_tokens': max_length_inst,\n",
    "        'title_tokens': max_length_title\n",
    "    }\n",
    "\n",
    "}\n",
    "image2recipe = R(**kwargs)\n",
    "image2recipe.train()\n",
    "\n",
    "# Plot the Learning Curves\n",
    "runner.plot_learning_loss_curves()"
   ]
  }
 ],
 "metadata": {
  "kernelspec": {
   "display_name": "Python 3 (ipykernel)",
   "language": "python",
   "name": "python3"
  },
  "language_info": {
   "codemirror_mode": {
    "name": "ipython",
    "version": 3
   },
   "file_extension": ".py",
   "mimetype": "text/x-python",
   "name": "python",
   "nbconvert_exporter": "python",
   "pygments_lexer": "ipython3",
   "version": "3.11.4"
  }
 },
 "nbformat": 4,
 "nbformat_minor": 5
}
