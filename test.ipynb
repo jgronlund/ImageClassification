{
 "cells": [
  {
   "cell_type": "code",
   "execution_count": 11,
   "id": "b48eeacf",
   "metadata": {},
   "outputs": [],
   "source": [
    "import torch\n",
    "import torch.nn as nn\n",
    "from models.MMR import MMR\n",
    "from models.MMR import TDB\n",
    "from models.MMR import MMR_losses\n",
    "from models.image_2_recipe import Image2Recipe\n",
    "from models.image_encoder import Image_Encoder\n",
    "from models.recipe_encoder import RecipeEncoder\n",
    "# from models.Image2Recipe import Image2Recipe\n",
    "\n",
    "# Define dummy data parameters\n",
    "batch_size = 8  # Adjust as needed\n",
    "seq_len = 10  # Length of the token sequence, adjust as needed\n",
    "hidden_dim = 1024  # Size of the feature vectors\n",
    "num_heads = 4  # Number of attention heads\n",
    "ITEM_lyrs = 2  # Number of ITEM layers\n",
    "MTD_lyrs = 2  # Number of MTD layers\n",
    "projection_dim = 512  # Projection dimension\n",
    "\n"
   ]
  },
  {
   "cell_type": "code",
   "execution_count": 13,
   "id": "228a31a3",
   "metadata": {},
   "outputs": [
    {
     "ename": "NameError",
     "evalue": "name 'self' is not defined",
     "output_type": "error",
     "traceback": [
      "\u001b[0;31m---------------------------------------------------------------------------\u001b[0m",
      "\u001b[0;31mNameError\u001b[0m                                 Traceback (most recent call last)",
      "Cell \u001b[0;32mIn[13], line 2\u001b[0m\n\u001b[1;32m      1\u001b[0m \u001b[38;5;66;03m# Create dummy data (projected recipe and image embeddings)\u001b[39;00m\n\u001b[0;32m----> 2\u001b[0m image_encoder \u001b[38;5;241m=\u001b[39m Image_Encoder(\u001b[38;5;28mself\u001b[39m\u001b[38;5;241m.\u001b[39mdevice, \u001b[38;5;28mself\u001b[39m\u001b[38;5;241m.\u001b[39mclip_model, num_classes)\u001b[38;5;241m.\u001b[39mto(\u001b[38;5;28mself\u001b[39m\u001b[38;5;241m.\u001b[39mdevice)\n\u001b[1;32m      3\u001b[0m recipe_encoder \u001b[38;5;241m=\u001b[39m RecipeEncoder(\u001b[38;5;28mself\u001b[39m\u001b[38;5;241m.\u001b[39mdevice, \u001b[38;5;28mself\u001b[39m\u001b[38;5;241m.\u001b[39mvocab_size, \u001b[38;5;28mself\u001b[39m\u001b[38;5;241m.\u001b[39mmax_len)\u001b[38;5;241m.\u001b[39mto(\u001b[38;5;28mself\u001b[39m\u001b[38;5;241m.\u001b[39mdevice)\n\u001b[1;32m      4\u001b[0m mmr \u001b[38;5;241m=\u001b[39m MMR(input_size\u001b[38;5;241m=\u001b[39m\u001b[38;5;28mself\u001b[39m\u001b[38;5;241m.\u001b[39mimage_encoder\u001b[38;5;241m.\u001b[39mclip_model\u001b[38;5;241m.\u001b[39mconfig\u001b[38;5;241m.\u001b[39mprojection_dim, device\u001b[38;5;241m=\u001b[39m\u001b[38;5;28mself\u001b[39m\u001b[38;5;241m.\u001b[39mdevice)\n",
      "\u001b[0;31mNameError\u001b[0m: name 'self' is not defined"
     ]
    }
   ],
   "source": [
    "# Create dummy data (projected recipe and image embeddings)\n",
    "image_encoder = Image_Encoder(self.device, self.clip_model, num_classes).to(self.device)\n",
    "recipe_encoder = RecipeEncoder(self.device, self.vocab_size, self.max_len).to(self.device)\n",
    "mmr = MMR(input_size=self.image_encoder.clip_model.config.projection_dim, device=self.device)\n",
    "# num_heads=num_heads, ITEM_lyrs=ITEM_lyrs, MTD_lyrs=MTD_lyrs, projection_dim=projection_dim\n",
    "model = Image2Recipe(self.image_encoder, self.recipe_encoder, self.mmr).to(self.device)\n"
   ]
  },
  {
   "cell_type": "code",
   "execution_count": 2,
   "id": "11c224b9",
   "metadata": {},
   "outputs": [],
   "source": [
    "        \n",
    "recipe_tokens = torch.randn(batch_size, seq_len, hidden_dim)  # Shape: [batch_size, seq_len, hidden_dim]\n",
    "image_tokens = torch.randn(batch_size, seq_len, hidden_dim)  # Shape: [batch_size, seq_len, hidden_dim]\n",
    "# Create labels for testing\n",
    "labels = torch.randint(0, 2, (batch_size,)).float()  # Random binary labels for instance loss calculation\n"
   ]
  },
  {
   "cell_type": "code",
   "execution_count": 3,
   "id": "8ca931da",
   "metadata": {},
   "outputs": [],
   "source": [
    "# Instantiate the MMR model\n",
    "mmr_model = MMR(hidden_dim=hidden_dim, num_heads=num_heads, ITEM_lyrs=ITEM_lyrs, MTD_lyrs=MTD_lyrs, projection_dim=projection_dim)\n"
   ]
  },
  {
   "cell_type": "code",
   "execution_count": 4,
   "id": "9918380a",
   "metadata": {},
   "outputs": [
    {
     "name": "stdout",
     "output_type": "stream",
     "text": [
      "torch.Size([8, 10, 1024])\n",
      "torch.Size([8, 10, 1024])\n",
      "torch.Size([8])\n"
     ]
    }
   ],
   "source": [
    "print(recipe_tokens.shape)\n",
    "print(image_tokens.shape)\n",
    "print(labels.shape)"
   ]
  },
  {
   "cell_type": "code",
   "execution_count": 5,
   "id": "29a6922d",
   "metadata": {},
   "outputs": [],
   "source": [
    "# Forward pass through the model\n",
    "logits = mmr_model(recipe_tokens, image_tokens)\n"
   ]
  },
  {
   "cell_type": "code",
   "execution_count": 6,
   "id": "3f5609a1",
   "metadata": {},
   "outputs": [
    {
     "name": "stdout",
     "output_type": "stream",
     "text": [
      "torch.Size([8])\n"
     ]
    }
   ],
   "source": [
    "print(logits.shape)"
   ]
  },
  {
   "cell_type": "code",
   "execution_count": 7,
   "id": "e7d3ee73",
   "metadata": {},
   "outputs": [
    {
     "name": "stdout",
     "output_type": "stream",
     "text": [
      "tensor([0., 0., 0., 0., 0., 0., 1., 1.])\n"
     ]
    }
   ],
   "source": [
    "print(labels)"
   ]
  },
  {
   "cell_type": "code",
   "execution_count": 8,
   "id": "def4e157",
   "metadata": {},
   "outputs": [
    {
     "name": "stdout",
     "output_type": "stream",
     "text": [
      "Logits: tensor([6.4057e-01, 2.3168e-04, 1.3737e-01, 8.5390e-02, 2.2100e-02, 9.6236e-01,\n",
      "        3.5823e-01, 9.9984e-01], grad_fn=<MeanBackward1>)\n",
      "Instance Loss: 4.0254292488098145\n",
      "Semantic Loss: 2.4990320205688477\n"
     ]
    }
   ],
   "source": [
    "loss = MMR_losses(margin=1.0, instance_weight=1.0, sem_weight=1.0, itm_weight=1.0)\n",
    "semantic_loss = loss.instance_semantic_loss(image_tokens, recipe_tokens, labels, margin=1, mode='semantic')\n",
    "instance_loss = loss.instance_semantic_loss(image_tokens, recipe_tokens, labels, margin=1, mode='instance')\n",
    "itm_loss = loss.itm_loss(logits, labels)\n",
    "\n",
    "loss = loss.total_loss(labels, image_tokens, recipe_tokens, logits)\n",
    "\n",
    "# Print the outputs for verification\n",
    "print(\"Logits:\", logits)\n",
    "print(\"Instance Loss:\", instance_loss.item())\n",
    "print(\"Semantic Loss:\", semantic_loss.item())"
   ]
  },
  {
   "cell_type": "code",
   "execution_count": 9,
   "id": "2f2dd4fc",
   "metadata": {},
   "outputs": [
    {
     "name": "stdout",
     "output_type": "stream",
     "text": [
      "tensor(0.6986, grad_fn=<BinaryCrossEntropyBackward0>)\n"
     ]
    }
   ],
   "source": [
    "print(itm_loss)"
   ]
  },
  {
   "cell_type": "code",
   "execution_count": 10,
   "id": "85b11bc3",
   "metadata": {},
   "outputs": [
    {
     "name": "stdout",
     "output_type": "stream",
     "text": [
      "tensor(7.2231, grad_fn=<AddBackward0>)\n"
     ]
    }
   ],
   "source": [
    "print(loss)"
   ]
  },
  {
   "cell_type": "code",
   "execution_count": 1,
   "id": "f3f6791a",
   "metadata": {},
   "outputs": [
    {
     "ename": "NameError",
     "evalue": "name 'img_embeddings' is not defined",
     "output_type": "error",
     "traceback": [
      "\u001b[0;31m---------------------------------------------------------------------------\u001b[0m",
      "\u001b[0;31mNameError\u001b[0m                                 Traceback (most recent call last)",
      "Cell \u001b[0;32mIn[1], line 4\u001b[0m\n\u001b[1;32m      2\u001b[0m \u001b[38;5;28;01mfrom\u001b[39;00m \u001b[38;5;21;01mmodels\u001b[39;00m\u001b[38;5;21;01m.\u001b[39;00m\u001b[38;5;21;01mimage_encoder\u001b[39;00m \u001b[38;5;28;01mimport\u001b[39;00m Image_Encoder\n\u001b[1;32m      3\u001b[0m \u001b[38;5;28;01mfrom\u001b[39;00m \u001b[38;5;21;01mmodels\u001b[39;00m\u001b[38;5;21;01m.\u001b[39;00m\u001b[38;5;21;01mrecipe_encoder\u001b[39;00m \u001b[38;5;28;01mimport\u001b[39;00m RecipeEncoder\n\u001b[0;32m----> 4\u001b[0m \u001b[38;5;28;01mfrom\u001b[39;00m \u001b[38;5;21;01mmodels\u001b[39;00m\u001b[38;5;21;01m.\u001b[39;00m\u001b[38;5;21;01mMMR\u001b[39;00m \u001b[38;5;28;01mimport\u001b[39;00m MMR  \u001b[38;5;66;03m# Import your updated MMR module\u001b[39;00m\n\u001b[1;32m      5\u001b[0m \u001b[38;5;28;01mfrom\u001b[39;00m \u001b[38;5;21;01mrunner\u001b[39;00m \u001b[38;5;28;01mimport\u001b[39;00m Runner  \u001b[38;5;66;03m# Assuming your Runner class is saved in runner.py\u001b[39;00m\n\u001b[1;32m      6\u001b[0m \u001b[38;5;28;01mfrom\u001b[39;00m \u001b[38;5;21;01mtransformers\u001b[39;00m \u001b[38;5;28;01mimport\u001b[39;00m AutoTokenizer\n",
      "File \u001b[0;32m~/OMSCS/DL_7643/indv_proj/models/MMR.py:33\u001b[0m\n\u001b[1;32m     10\u001b[0m \u001b[38;5;28;01mimport\u001b[39;00m \u001b[38;5;21;01mrandom\u001b[39;00m\n\u001b[1;32m     11\u001b[0m \u001b[38;5;66;03m# Reuse Chelsea's code\u001b[39;00m\n\u001b[1;32m     12\u001b[0m \u001b[38;5;66;03m# from models.reciper_encoder import TransformerEncoder TransformerDecoder https://pytorch.org/docs/stable/generated/torch.nn.TransformerDecoder.html\u001b[39;00m\n\u001b[1;32m     13\u001b[0m \n\u001b[0;32m   (...)\u001b[0m\n\u001b[1;32m     30\u001b[0m \u001b[38;5;66;03m#     - Image Tokens Enhancement Module (ITEM) to enhance the image tokens\u001b[39;00m\n\u001b[1;32m     31\u001b[0m \u001b[38;5;66;03m#     - Multimodal transformer decoder (MTD)\u001b[39;00m\n\u001b[0;32m---> 33\u001b[0m \u001b[38;5;28;01mclass\u001b[39;00m \u001b[38;5;21;01mMMR_losses\u001b[39;00m(nn\u001b[38;5;241m.\u001b[39mModule):\n\u001b[1;32m     34\u001b[0m     \u001b[38;5;28;01mdef\u001b[39;00m \u001b[38;5;21m__init__\u001b[39m(\u001b[38;5;28mself\u001b[39m, margin\u001b[38;5;241m=\u001b[39m\u001b[38;5;241m1.0\u001b[39m, instance_weight\u001b[38;5;241m=\u001b[39m\u001b[38;5;241m1.0\u001b[39m, sem_weight\u001b[38;5;241m=\u001b[39m\u001b[38;5;241m1.0\u001b[39m, itm_weight\u001b[38;5;241m=\u001b[39m\u001b[38;5;241m1.0\u001b[39m):\n\u001b[1;32m     35\u001b[0m         \u001b[38;5;28msuper\u001b[39m()\u001b[38;5;241m.\u001b[39m\u001b[38;5;21m__init__\u001b[39m()\n",
      "File \u001b[0;32m~/OMSCS/DL_7643/indv_proj/models/MMR.py:113\u001b[0m, in \u001b[0;36mMMR_losses\u001b[0;34m()\u001b[0m\n\u001b[1;32m    109\u001b[0m         hardest_img_negative, _ \u001b[38;5;241m=\u001b[39m negative_img_distances\u001b[38;5;241m.\u001b[39mmin(dim\u001b[38;5;241m=\u001b[39m\u001b[38;5;241m1\u001b[39m)\n\u001b[1;32m    111\u001b[0m         \u001b[38;5;28;01mreturn\u001b[39;00m (torch\u001b[38;5;241m.\u001b[39mnn\u001b[38;5;241m.\u001b[39mfunctional\u001b[38;5;241m.\u001b[39mrelu(hardest_img_positive \u001b[38;5;241m+\u001b[39m margin \u001b[38;5;241m-\u001b[39m hardest_img_negative))\u001b[38;5;241m.\u001b[39mmean() \u001b[38;5;241m+\u001b[39m (torch\u001b[38;5;241m.\u001b[39mnn\u001b[38;5;241m.\u001b[39mfunctional\u001b[38;5;241m.\u001b[39mrelu(hardest_txt_positive \u001b[38;5;241m+\u001b[39m margin \u001b[38;5;241m-\u001b[39m hardest_txt_negative))\u001b[38;5;241m.\u001b[39mmean()\n\u001b[0;32m--> 113\u001b[0m \u001b[38;5;28;01mdef\u001b[39;00m \u001b[38;5;21mtotal_loss\u001b[39m(\u001b[38;5;28mself\u001b[39m, labels, img_embeddings, txt_embeddings, mmr_logits, tf_labels\u001b[38;5;241m=\u001b[39mtorch\u001b[38;5;241m.\u001b[39mones(img_embeddings\u001b[38;5;241m.\u001b[39msize()[\u001b[38;5;241m0\u001b[39m]), margin\u001b[38;5;241m=\u001b[39m\u001b[38;5;28mself\u001b[39m\u001b[38;5;241m.\u001b[39mmargin):\n\u001b[1;32m    114\u001b[0m     sem_loss \u001b[38;5;241m=\u001b[39m \u001b[38;5;28mself\u001b[39m\u001b[38;5;241m.\u001b[39minstance_semantic_loss(img_embeddings, txt_embeddings, labels, margin, mode\u001b[38;5;241m=\u001b[39m\u001b[38;5;124m'\u001b[39m\u001b[38;5;124msemantic\u001b[39m\u001b[38;5;124m'\u001b[39m)\n\u001b[1;32m    115\u001b[0m     inst_loss \u001b[38;5;241m=\u001b[39m \u001b[38;5;28mself\u001b[39m\u001b[38;5;241m.\u001b[39minstance_semantic_loss(img_embeddings, txt_embeddings, labels, margin, mode\u001b[38;5;241m=\u001b[39m\u001b[38;5;124m'\u001b[39m\u001b[38;5;124minstance\u001b[39m\u001b[38;5;124m'\u001b[39m)\n",
      "\u001b[0;31mNameError\u001b[0m: name 'img_embeddings' is not defined"
     ]
    }
   ],
   "source": [
    "import torch\n",
    "from models.image_encoder import Image_Encoder\n",
    "from models.recipe_encoder import RecipeEncoder\n",
    "from models.MMR import MMR  # Import your updated MMR module\n",
    "from runner import Runner  # Assuming your Runner class is saved in runner.py\n",
    "from transformers import AutoTokenizer\n",
    "from transformers import CLIPModel\n"
   ]
  },
  {
   "cell_type": "code",
   "execution_count": null,
   "id": "4de85444",
   "metadata": {},
   "outputs": [],
   "source": [
    "model_name = \"openai/clip-vit-base-patch16\"\n",
    "clip_model = CLIPModel.from_pretrained(model_name)\n",
    "tokenizer = AutoTokenizer.from_pretrained(model_name)\n",
    "\n",
    "# Mock data for testing (replace with actual preprocessed data)\n",
    "batch_size = 8\n",
    "seq_len = 45\n",
    "hidden_dim = 512\n",
    "vocab_size = 10000\n",
    "max_len = 50\n",
    "device = torch.device(\"cuda\" if torch.cuda.is_available() else \"cpu\")\n",
    "clip_model, _ = clip.load(\"ViT-B/32\", device=device) \n",
    "\n",
    "# Mock tokenized inputs\n",
    "tokenized_ingredients = torch.randint(0, vocab_size, (100, seq_len)).tolist()\n",
    "tokenized_instructions = torch.randint(0, vocab_size, (100, seq_len)).tolist()\n",
    "tokenized_titles = torch.randint(0, vocab_size, (100, seq_len)).tolist()\n",
    "image_tensors = torch.rand(100, 3, 224, 224)  # Simulate 100 images of shape 3x224x224\n",
    "tokenized_labels = {\n",
    "    'input_ids': torch.randint(0, 2, (100,)),  # Binary labels\n",
    "    'attention_mask': torch.ones(100)\n",
    "}\n",
    "\n",
    "from runner import Runner as R\n",
    "kwargs = {\n",
    "    'epochs': 10,\n",
    "    'ingredient_tokens': filtered_df['tokenized_ingredients'].to_list(),\n",
    "    'instruction_tokens': filtered_df['tokenized_instructions'].to_list(),\n",
    "    'title_tokens': filtered_df['tokenized_titles'].to_list(),\n",
    "    'image_tensors': filtered_tensors,\n",
    "    'image_labels': tokenized_labels,\n",
    "    'device': device,\n",
    "    'vocab_size': total_vocab_size,\n",
    "    'max_len': total_max,\n",
    "    'clip_model': clip_model,\n",
    "    'optimizer': 'adam',\n",
    "    'learning_rate': 1e-3,\n",
    "    'batch_size': 4,\n",
    "    'instance_weight': 1,\n",
    "    'sem_weight': 1,\n",
    "    'itm_weight': 1,\n",
    "    'max_lengths': {\n",
    "        'ingredient_tokens': max_length_ing,\n",
    "        'instruction_tokens': max_length_inst,\n",
    "        'title_tokens': max_length_title\n",
    "    }\n",
    "\n",
    "}\n",
    "image2recipe = R(**kwargs)\n",
    "image2recipe.train()\n",
    "\n",
    "# Plot the Learning Curves\n",
    "runner.plot_learning_loss_curves()"
   ]
  }
 ],
 "metadata": {
  "kernelspec": {
   "display_name": "Python 3 (ipykernel)",
   "language": "python",
   "name": "python3"
  },
  "language_info": {
   "codemirror_mode": {
    "name": "ipython",
    "version": 3
   },
   "file_extension": ".py",
   "mimetype": "text/x-python",
   "name": "python",
   "nbconvert_exporter": "python",
   "pygments_lexer": "ipython3",
   "version": "3.11.4"
  }
 },
 "nbformat": 4,
 "nbformat_minor": 5
}
